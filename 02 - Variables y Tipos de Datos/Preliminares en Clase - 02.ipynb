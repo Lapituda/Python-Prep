{
 "cells": [
  {
   "cell_type": "markdown",
   "metadata": {},
   "source": [
    "## Variables"
   ]
  },
  {
   "cell_type": "code",
   "execution_count": 2,
   "metadata": {
    "vscode": {
     "languageId": "polyglot-notebook"
    }
   },
   "outputs": [
    {
     "ename": "Error",
     "evalue": "(1,16): error CS1002: ; expected",
     "output_type": "error",
     "traceback": [
      "(1,16): error CS1002: ; expected"
     ]
    }
   ],
   "source": [
    "mi_var = 12 + 1j"
   ]
  },
  {
   "cell_type": "code",
   "execution_count": 3,
   "metadata": {
    "vscode": {
     "languageId": "polyglot-notebook"
    }
   },
   "outputs": [
    {
     "ename": "Error",
     "evalue": "(1,1): error CS0103: The name 'print' does not exist in the current context\r\n(1,7): error CS0103: The name 'mi_var' does not exist in the current context",
     "output_type": "error",
     "traceback": [
      "(1,1): error CS0103: The name 'print' does not exist in the current context\r\n",
      "(1,7): error CS0103: The name 'mi_var' does not exist in the current context"
     ]
    }
   ],
   "source": [
    "print(mi_var)"
   ]
  },
  {
   "cell_type": "code",
   "execution_count": 4,
   "metadata": {
    "vscode": {
     "languageId": "polyglot-notebook"
    }
   },
   "outputs": [
    {
     "ename": "Error",
     "evalue": "(1,21): error CS1002: ; expected\r\n(2,18): error CS1002: ; expected\r\n(3,16): error CS1012: Too many characters in character literal\r\n(3,22): error CS1002: ; expected\r\n(4,20): error CS1002: ; expected\r\n(5,21): error CS1002: ; expected",
     "output_type": "error",
     "traceback": [
      "(1,21): error CS1002: ; expected\r\n",
      "(2,18): error CS1002: ; expected\r\n",
      "(3,16): error CS1012: Too many characters in character literal\r\n",
      "(3,22): error CS1002: ; expected\r\n",
      "(4,20): error CS1002: ; expected\r\n",
      "(5,21): error CS1002: ; expected"
     ]
    }
   ],
   "source": [
    "mi_variable1 = 10.25\n",
    "mi_variable2 = 10\n",
    "mi_variable3 = 'hola'\n",
    "mi_variable4 = True\n",
    "mi_variable5 = 1 + 1j"
   ]
  },
  {
   "cell_type": "code",
   "execution_count": 5,
   "metadata": {
    "vscode": {
     "languageId": "polyglot-notebook"
    }
   },
   "outputs": [
    {
     "ename": "Error",
     "evalue": "(1,1): error CS0103: The name 'mi_variable2' does not exist in the current context",
     "output_type": "error",
     "traceback": [
      "(1,1): error CS0103: The name 'mi_variable2' does not exist in the current context"
     ]
    }
   ],
   "source": [
    "mi_variable2 != 2"
   ]
  },
  {
   "cell_type": "code",
   "execution_count": 6,
   "metadata": {
    "vscode": {
     "languageId": "polyglot-notebook"
    }
   },
   "outputs": [
    {
     "ename": "Error",
     "evalue": "(1,17): error CS1002: ; expected",
     "output_type": "error",
     "traceback": [
      "(1,17): error CS1002: ; expected"
     ]
    }
   ],
   "source": [
    "mi_var1 = \"True\"\n",
    "mi_var2 = False"
   ]
  },
  {
   "cell_type": "code",
   "execution_count": 7,
   "metadata": {
    "vscode": {
     "languageId": "polyglot-notebook"
    }
   },
   "outputs": [
    {
     "ename": "Error",
     "evalue": "(1,1): error CS0103: The name 'type' does not exist in the current context\r\n(1,6): error CS0103: The name 'mi_var1' does not exist in the current context",
     "output_type": "error",
     "traceback": [
      "(1,1): error CS0103: The name 'type' does not exist in the current context\r\n",
      "(1,6): error CS0103: The name 'mi_var1' does not exist in the current context"
     ]
    }
   ],
   "source": [
    "type(mi_var1)"
   ]
  },
  {
   "cell_type": "code",
   "execution_count": 8,
   "metadata": {
    "vscode": {
     "languageId": "polyglot-notebook"
    }
   },
   "outputs": [
    {
     "ename": "Error",
     "evalue": "(1,1): error CS1525: Invalid expression term 'bool'",
     "output_type": "error",
     "traceback": [
      "(1,1): error CS1525: Invalid expression term 'bool'"
     ]
    }
   ],
   "source": [
    "bool(mi_var1)"
   ]
  },
  {
   "cell_type": "code",
   "execution_count": 9,
   "metadata": {
    "vscode": {
     "languageId": "polyglot-notebook"
    }
   },
   "outputs": [
    {
     "ename": "Error",
     "evalue": "(1,13): error CS1002: ; expected",
     "output_type": "error",
     "traceback": [
      "(1,13): error CS1002: ; expected"
     ]
    }
   ],
   "source": [
    "mi_var1 and mi_var2"
   ]
  },
  {
   "cell_type": "code",
   "execution_count": 10,
   "metadata": {
    "vscode": {
     "languageId": "polyglot-notebook"
    }
   },
   "outputs": [
    {
     "ename": "Error",
     "evalue": "(1,23): error CS1002: ; expected",
     "output_type": "error",
     "traceback": [
      "(1,23): error CS1002: ; expected"
     ]
    }
   ],
   "source": [
    "mi_variable1 = \"10.75\"\n",
    "mi_variable2 = 0.75"
   ]
  },
  {
   "cell_type": "code",
   "execution_count": 11,
   "metadata": {
    "vscode": {
     "languageId": "polyglot-notebook"
    }
   },
   "outputs": [
    {
     "ename": "Error",
     "evalue": "(1,1): error CS0103: The name 'type' does not exist in the current context\r\n(1,6): error CS0103: The name 'mi_variable1' does not exist in the current context",
     "output_type": "error",
     "traceback": [
      "(1,1): error CS0103: The name 'type' does not exist in the current context\r\n",
      "(1,6): error CS0103: The name 'mi_variable1' does not exist in the current context"
     ]
    }
   ],
   "source": [
    "type(mi_variable1)"
   ]
  },
  {
   "cell_type": "code",
   "execution_count": 12,
   "metadata": {
    "vscode": {
     "languageId": "polyglot-notebook"
    }
   },
   "outputs": [
    {
     "ename": "Error",
     "evalue": "(1,16): error CS1525: Invalid expression term 'float'",
     "output_type": "error",
     "traceback": [
      "(1,16): error CS1525: Invalid expression term 'float'"
     ]
    }
   ],
   "source": [
    "mi_variable1 = float(mi_variable1)"
   ]
  },
  {
   "cell_type": "code",
   "execution_count": 13,
   "metadata": {
    "vscode": {
     "languageId": "polyglot-notebook"
    }
   },
   "outputs": [
    {
     "ename": "Error",
     "evalue": "(1,1): error CS0103: The name 'print' does not exist in the current context\r\n(1,7): error CS0103: The name 'mi_variable1' does not exist in the current context\r\n(1,22): error CS0103: The name 'mi_variable2' does not exist in the current context",
     "output_type": "error",
     "traceback": [
      "(1,1): error CS0103: The name 'print' does not exist in the current context\r\n",
      "(1,7): error CS0103: The name 'mi_variable1' does not exist in the current context\r\n",
      "(1,22): error CS0103: The name 'mi_variable2' does not exist in the current context"
     ]
    }
   ],
   "source": [
    "print(mi_variable1 + mi_variable2)"
   ]
  },
  {
   "cell_type": "code",
   "execution_count": 14,
   "metadata": {
    "vscode": {
     "languageId": "polyglot-notebook"
    }
   },
   "outputs": [
    {
     "data": {
      "text/html": [
       "<div class=\"dni-plaintext\"><pre>1</pre></div><style>\r\n",
       ".dni-code-hint {\r\n",
       "    font-style: italic;\r\n",
       "    overflow: hidden;\r\n",
       "    white-space: nowrap;\r\n",
       "}\r\n",
       ".dni-treeview {\r\n",
       "    white-space: nowrap;\r\n",
       "}\r\n",
       ".dni-treeview td {\r\n",
       "    vertical-align: top;\r\n",
       "    text-align: start;\r\n",
       "}\r\n",
       "details.dni-treeview {\r\n",
       "    padding-left: 1em;\r\n",
       "}\r\n",
       "table td {\r\n",
       "    text-align: start;\r\n",
       "}\r\n",
       "table tr { \r\n",
       "    vertical-align: top; \r\n",
       "    margin: 0em 0px;\r\n",
       "}\r\n",
       "table tr td pre \r\n",
       "{ \r\n",
       "    vertical-align: top !important; \r\n",
       "    margin: 0em 0px !important;\r\n",
       "} \r\n",
       "table th {\r\n",
       "    text-align: start;\r\n",
       "}\r\n",
       "</style>"
      ]
     },
     "metadata": {},
     "output_type": "display_data"
    }
   ],
   "source": [
    "10 % 3"
   ]
  },
  {
   "cell_type": "code",
   "execution_count": 15,
   "metadata": {
    "vscode": {
     "languageId": "polyglot-notebook"
    }
   },
   "outputs": [
    {
     "data": {
      "text/html": [
       "<div class=\"dni-plaintext\"><pre>9</pre></div><style>\r\n",
       ".dni-code-hint {\r\n",
       "    font-style: italic;\r\n",
       "    overflow: hidden;\r\n",
       "    white-space: nowrap;\r\n",
       "}\r\n",
       ".dni-treeview {\r\n",
       "    white-space: nowrap;\r\n",
       "}\r\n",
       ".dni-treeview td {\r\n",
       "    vertical-align: top;\r\n",
       "    text-align: start;\r\n",
       "}\r\n",
       "details.dni-treeview {\r\n",
       "    padding-left: 1em;\r\n",
       "}\r\n",
       "table td {\r\n",
       "    text-align: start;\r\n",
       "}\r\n",
       "table tr { \r\n",
       "    vertical-align: top; \r\n",
       "    margin: 0em 0px;\r\n",
       "}\r\n",
       "table tr td pre \r\n",
       "{ \r\n",
       "    vertical-align: top !important; \r\n",
       "    margin: 0em 0px !important;\r\n",
       "} \r\n",
       "table th {\r\n",
       "    text-align: start;\r\n",
       "}\r\n",
       "</style>"
      ]
     },
     "metadata": {},
     "output_type": "display_data"
    }
   ],
   "source": [
    "3 * 3"
   ]
  },
  {
   "cell_type": "code",
   "execution_count": 16,
   "metadata": {
    "vscode": {
     "languageId": "polyglot-notebook"
    }
   },
   "outputs": [
    {
     "ename": "Error",
     "evalue": "(1,1): error CS1525: Invalid expression term 'float'",
     "output_type": "error",
     "traceback": [
      "(1,1): error CS1525: Invalid expression term 'float'"
     ]
    }
   ],
   "source": [
    "float()"
   ]
  },
  {
   "cell_type": "code",
   "execution_count": 17,
   "metadata": {
    "vscode": {
     "languageId": "polyglot-notebook"
    }
   },
   "outputs": [
    {
     "ename": "Error",
     "evalue": "(1,1): error CS0103: The name 'print' does not exist in the current context\r\n(1,7): error CS0103: The name 'mi_variable3' does not exist in the current context",
     "output_type": "error",
     "traceback": [
      "(1,1): error CS0103: The name 'print' does not exist in the current context\r\n",
      "(1,7): error CS0103: The name 'mi_variable3' does not exist in the current context"
     ]
    }
   ],
   "source": [
    "print(mi_variable3)"
   ]
  },
  {
   "cell_type": "code",
   "execution_count": 18,
   "metadata": {
    "vscode": {
     "languageId": "polyglot-notebook"
    }
   },
   "outputs": [
    {
     "ename": "Error",
     "evalue": "(1,20): error CS1002: ; expected",
     "output_type": "error",
     "traceback": [
      "(1,20): error CS1002: ; expected"
     ]
    }
   ],
   "source": [
    "mi_variable6 = True\n",
    "mi_variable7 = False"
   ]
  },
  {
   "cell_type": "code",
   "execution_count": 19,
   "metadata": {
    "vscode": {
     "languageId": "polyglot-notebook"
    }
   },
   "outputs": [],
   "source": []
  },
  {
   "cell_type": "code",
   "execution_count": 20,
   "metadata": {
    "vscode": {
     "languageId": "polyglot-notebook"
    }
   },
   "outputs": [
    {
     "ename": "Error",
     "evalue": "(1,5): error CS1012: Too many characters in character literal\r\n(1,12): error CS1002: ; expected\r\n(2,5): error CS1012: Too many characters in character literal\r\n(2,14): error CS1002: ; expected",
     "output_type": "error",
     "traceback": [
      "(1,5): error CS1012: Too many characters in character literal\r\n",
      "(1,12): error CS1002: ; expected\r\n",
      "(2,5): error CS1012: Too many characters in character literal\r\n",
      "(2,14): error CS1002: ; expected"
     ]
    }
   ],
   "source": [
    "a = 'Hola '\n",
    "b = 'Mundo !'\n",
    "print(a + b)"
   ]
  },
  {
   "cell_type": "code",
   "execution_count": 21,
   "metadata": {
    "vscode": {
     "languageId": "polyglot-notebook"
    }
   },
   "outputs": [
    {
     "ename": "Error",
     "evalue": "(1,6): error CS1002: ; expected\r\n(2,7): error CS1002: ; expected",
     "output_type": "error",
     "traceback": [
      "(1,6): error CS1002: ; expected\r\n",
      "(2,7): error CS1002: ; expected"
     ]
    }
   ],
   "source": [
    "x = 3\n",
    "y = 12\n",
    "print(x + y)"
   ]
  },
  {
   "cell_type": "code",
   "execution_count": 22,
   "metadata": {
    "vscode": {
     "languageId": "polyglot-notebook"
    }
   },
   "outputs": [
    {
     "ename": "Error",
     "evalue": "(1,1): error CS0103: The name 'print' does not exist in the current context\r\n(1,7): error CS0103: The name 'a' does not exist in the current context\r\n(1,11): error CS0103: The name 'x' does not exist in the current context",
     "output_type": "error",
     "traceback": [
      "(1,1): error CS0103: The name 'print' does not exist in the current context\r\n",
      "(1,7): error CS0103: The name 'a' does not exist in the current context\r\n",
      "(1,11): error CS0103: The name 'x' does not exist in the current context"
     ]
    }
   ],
   "source": [
    "print(a + x)"
   ]
  },
  {
   "cell_type": "code",
   "execution_count": 23,
   "metadata": {
    "vscode": {
     "languageId": "polyglot-notebook"
    }
   },
   "outputs": [
    {
     "ename": "Error",
     "evalue": "(1,3): error CS1024: Preprocessor directive expected\r\n(2,6): error CS1002: ; expected\r\n(3,6): error CS1002: ; expected",
     "output_type": "error",
     "traceback": [
      "(1,3): error CS1024: Preprocessor directive expected\r\n",
      "(2,6): error CS1002: ; expected\r\n",
      "(3,6): error CS1002: ; expected"
     ]
    }
   ],
   "source": [
    "# Dividir \"y\" entre \"x\"\n",
    "y = 9\n",
    "x = 3\n",
    "print(y/x)"
   ]
  },
  {
   "cell_type": "code",
   "execution_count": 24,
   "metadata": {
    "vscode": {
     "languageId": "polyglot-notebook"
    }
   },
   "outputs": [
    {
     "ename": "Error",
     "evalue": "(1,3): error CS1024: Preprocessor directive expected\r\n(2,6): error CS1002: ; expected\r\n(3,6): error CS1002: ; expected",
     "output_type": "error",
     "traceback": [
      "(1,3): error CS1024: Preprocessor directive expected\r\n",
      "(2,6): error CS1002: ; expected\r\n",
      "(3,6): error CS1002: ; expected"
     ]
    }
   ],
   "source": [
    "# Potencia de \"y\" elevado a la \"x\"\n",
    "y = 2\n",
    "x = 4\n",
    "print(y**x)"
   ]
  },
  {
   "cell_type": "code",
   "execution_count": 25,
   "metadata": {
    "vscode": {
     "languageId": "polyglot-notebook"
    }
   },
   "outputs": [
    {
     "ename": "Error",
     "evalue": "(1,3): error CS1024: Preprocessor directive expected\r\n(2,7): error CS1002: ; expected\r\n(3,6): error CS1002: ; expected",
     "output_type": "error",
     "traceback": [
      "(1,3): error CS1024: Preprocessor directive expected\r\n",
      "(2,7): error CS1002: ; expected\r\n",
      "(3,6): error CS1002: ; expected"
     ]
    }
   ],
   "source": [
    "# Devolver el resto de la división\n",
    "y = 13\n",
    "x = 3\n",
    "print(y%x)"
   ]
  },
  {
   "cell_type": "code",
   "execution_count": 26,
   "metadata": {
    "vscode": {
     "languageId": "polyglot-notebook"
    }
   },
   "outputs": [
    {
     "ename": "Error",
     "evalue": "(1,10): error CS1002: ; expected\r\n(2,15): error CS1525: Invalid expression term ':'\r\n(2,15): error CS1002: ; expected\r\n(2,15): error CS7017: Member definition, statement, or end-of-file expected\r\n(3,11): error CS1012: Too many characters in character literal\r\n(3,35): error CS1002: ; expected\r\n(4,17): error CS1002: ; expected\r\n(4,17): error CS7017: Member definition, statement, or end-of-file expected\r\n(5,11): error CS1012: Too many characters in character literal\r\n(5,35): error CS1002: ; expected\r\n(5,35): error CS8641: 'else' cannot start a statement.\r\n(5,35): error CS1003: Syntax error, '(' expected\r\n(5,35): error CS1525: Invalid expression term 'else'\r\n(5,35): error CS1026: ) expected\r\n(5,35): error CS1525: Invalid expression term 'else'\r\n(5,35): error CS1002: ; expected\r\n(6,5): error CS1525: Invalid expression term ':'\r\n(6,5): error CS1002: ; expected\r\n(6,5): error CS7017: Member definition, statement, or end-of-file expected\r\n(7,11): error CS1012: Too many characters in character literal",
     "output_type": "error",
     "traceback": [
      "(1,10): error CS1002: ; expected\r\n",
      "(2,15): error CS1525: Invalid expression term ':'\r\n",
      "(2,15): error CS1002: ; expected\r\n",
      "(2,15): error CS7017: Member definition, statement, or end-of-file expected\r\n",
      "(3,11): error CS1012: Too many characters in character literal\r\n",
      "(3,35): error CS1002: ; expected\r\n",
      "(4,17): error CS1002: ; expected\r\n",
      "(4,17): error CS7017: Member definition, statement, or end-of-file expected\r\n",
      "(5,11): error CS1012: Too many characters in character literal\r\n",
      "(5,35): error CS1002: ; expected\r\n",
      "(5,35): error CS8641: 'else' cannot start a statement.\r\n",
      "(5,35): error CS1003: Syntax error, '(' expected\r\n",
      "(5,35): error CS1525: Invalid expression term 'else'\r\n",
      "(5,35): error CS1026: ) expected\r\n",
      "(5,35): error CS1525: Invalid expression term 'else'\r\n",
      "(5,35): error CS1002: ; expected\r\n",
      "(6,5): error CS1525: Invalid expression term ':'\r\n",
      "(6,5): error CS1002: ; expected\r\n",
      "(6,5): error CS7017: Member definition, statement, or end-of-file expected\r\n",
      "(7,11): error CS1012: Too many characters in character literal"
     ]
    }
   ],
   "source": [
    "valor = 0\n",
    "if (valor < 0):\n",
    "    print('El número es negativo')\n",
    "elif (valor > 0):\n",
    "    print('El número es positivo')\n",
    "else:\n",
    "    print('El número es igual a cero')"
   ]
  },
  {
   "cell_type": "code",
   "execution_count": 27,
   "metadata": {
    "vscode": {
     "languageId": "polyglot-notebook"
    }
   },
   "outputs": [
    {
     "ename": "Error",
     "evalue": "(1,5): error CS1003: Syntax error, '(' expected\r\n(1,7): error CS1003: Syntax error, ',' expected\r\n(1,10): error CS1003: Syntax error, ',' expected\r\n(1,21): error CS1003: Syntax error, ',' expected\r\n(1,22): error CS1003: Syntax error, ',' expected\r\n(2,13): error CS1002: ; expected\r\n(2,13): error CS1733: Expected expression\r\n(2,13): error CS1002: ; expected\r\n(2,13): error CS1026: ) expected\r\n(2,13): error CS1733: Expected expression\r\n(2,13): error CS1002: ; expected",
     "output_type": "error",
     "traceback": [
      "(1,5): error CS1003: Syntax error, '(' expected\r\n",
      "(1,7): error CS1003: Syntax error, ',' expected\r\n",
      "(1,10): error CS1003: Syntax error, ',' expected\r\n",
      "(1,21): error CS1003: Syntax error, ',' expected\r\n",
      "(1,22): error CS1003: Syntax error, ',' expected\r\n",
      "(2,13): error CS1002: ; expected\r\n",
      "(2,13): error CS1733: Expected expression\r\n",
      "(2,13): error CS1002: ; expected\r\n",
      "(2,13): error CS1026: ) expected\r\n",
      "(2,13): error CS1733: Expected expression\r\n",
      "(2,13): error CS1002: ; expected"
     ]
    }
   ],
   "source": [
    "for n in range(1,10):\n",
    "    print(n)"
   ]
  },
  {
   "cell_type": "code",
   "execution_count": 28,
   "metadata": {
    "vscode": {
     "languageId": "polyglot-notebook"
    }
   },
   "outputs": [
    {
     "ename": "Error",
     "evalue": "(1,6): error CS1002: ; expected\r\n(2,15): error CS1525: Invalid expression term ':'\r\n(2,15): error CS1002: ; expected\r\n(2,15): error CS7017: Member definition, statement, or end-of-file expected\r\n(3,13): error CS1002: ; expected",
     "output_type": "error",
     "traceback": [
      "(1,6): error CS1002: ; expected\r\n",
      "(2,15): error CS1525: Invalid expression term ':'\r\n",
      "(2,15): error CS1002: ; expected\r\n",
      "(2,15): error CS7017: Member definition, statement, or end-of-file expected\r\n",
      "(3,13): error CS1002: ; expected"
     ]
    }
   ],
   "source": [
    "n = 1\n",
    "while (n < 10):\n",
    "    print(n)\n",
    "    n = n + 1"
   ]
  },
  {
   "cell_type": "code",
   "execution_count": 29,
   "metadata": {
    "vscode": {
     "languageId": "polyglot-notebook"
    }
   },
   "outputs": [
    {
     "ename": "Error",
     "evalue": "(1,21): error CS1002: ; expected",
     "output_type": "error",
     "traceback": [
      "(1,21): error CS1002: ; expected"
     ]
    }
   ],
   "source": [
    "edad = (3,1,0.2,8,7)\n",
    "print(len(edad))"
   ]
  },
  {
   "cell_type": "markdown",
   "metadata": {},
   "source": [
    "Listas"
   ]
  },
  {
   "cell_type": "code",
   "execution_count": 30,
   "metadata": {
    "vscode": {
     "languageId": "polyglot-notebook"
    }
   },
   "outputs": [
    {
     "ename": "Error",
     "evalue": "(1,12): error CS1525: Invalid expression term '['\r\n(1,13): error CS1012: Too many characters in character literal\r\n(1,20): error CS1012: Too many characters in character literal\r\n(1,27): error CS1012: Too many characters in character literal\r\n(1,38): error CS1012: Too many characters in character literal\r\n(1,48): error CS1012: Too many characters in character literal\r\n(1,58): error CS1012: Too many characters in character literal",
     "output_type": "error",
     "traceback": [
      "(1,12): error CS1525: Invalid expression term '['\r\n",
      "(1,13): error CS1012: Too many characters in character literal\r\n",
      "(1,20): error CS1012: Too many characters in character literal\r\n",
      "(1,27): error CS1012: Too many characters in character literal\r\n",
      "(1,38): error CS1012: Too many characters in character literal\r\n",
      "(1,48): error CS1012: Too many characters in character literal\r\n",
      "(1,58): error CS1012: Too many characters in character literal"
     ]
    }
   ],
   "source": [
    "mi_lista = ['Rojo','Azul','Amarillo','Naranja','Violeta','Verde']"
   ]
  },
  {
   "cell_type": "code",
   "execution_count": 31,
   "metadata": {
    "vscode": {
     "languageId": "polyglot-notebook"
    }
   },
   "outputs": [
    {
     "ename": "Error",
     "evalue": "(1,1): error CS0103: The name 'type' does not exist in the current context\r\n(1,6): error CS0103: The name 'mi_lista' does not exist in the current context",
     "output_type": "error",
     "traceback": [
      "(1,1): error CS0103: The name 'type' does not exist in the current context\r\n",
      "(1,6): error CS0103: The name 'mi_lista' does not exist in the current context"
     ]
    }
   ],
   "source": [
    "type(mi_lista)"
   ]
  },
  {
   "cell_type": "code",
   "execution_count": 32,
   "metadata": {
    "vscode": {
     "languageId": "polyglot-notebook"
    }
   },
   "outputs": [
    {
     "ename": "Error",
     "evalue": "(1,1): error CS0103: The name 'print' does not exist in the current context\r\n(1,7): error CS0103: The name 'mi_lista' does not exist in the current context",
     "output_type": "error",
     "traceback": [
      "(1,1): error CS0103: The name 'print' does not exist in the current context\r\n",
      "(1,7): error CS0103: The name 'mi_lista' does not exist in the current context"
     ]
    }
   ],
   "source": [
    "print(mi_lista)"
   ]
  },
  {
   "cell_type": "code",
   "execution_count": 33,
   "metadata": {
    "vscode": {
     "languageId": "polyglot-notebook"
    }
   },
   "outputs": [
    {
     "ename": "Error",
     "evalue": "(1,17): error CS1003: Syntax error, ',' expected\r\n(1,18): error CS1003: Syntax error, ',' expected",
     "output_type": "error",
     "traceback": [
      "(1,17): error CS1003: Syntax error, ',' expected\r\n",
      "(1,18): error CS1003: Syntax error, ',' expected"
     ]
    }
   ],
   "source": [
    "print(mi_lista[0:2])"
   ]
  },
  {
   "cell_type": "code",
   "execution_count": 34,
   "metadata": {
    "vscode": {
     "languageId": "polyglot-notebook"
    }
   },
   "outputs": [
    {
     "ename": "Error",
     "evalue": "(1,16): error CS1001: Identifier expected",
     "output_type": "error",
     "traceback": [
      "(1,16): error CS1001: Identifier expected"
     ]
    }
   ],
   "source": [
    "print(mi_lista[:2])"
   ]
  },
  {
   "cell_type": "code",
   "execution_count": 35,
   "metadata": {
    "vscode": {
     "languageId": "polyglot-notebook"
    }
   },
   "outputs": [
    {
     "ename": "Error",
     "evalue": "(1,17): error CS1003: Syntax error, ',' expected",
     "output_type": "error",
     "traceback": [
      "(1,17): error CS1003: Syntax error, ',' expected"
     ]
    }
   ],
   "source": [
    "print(mi_lista[1:])"
   ]
  },
  {
   "cell_type": "code",
   "execution_count": 36,
   "metadata": {
    "vscode": {
     "languageId": "polyglot-notebook"
    }
   },
   "outputs": [
    {
     "ename": "Error",
     "evalue": "(1,19): error CS1012: Too many characters in character literal",
     "output_type": "error",
     "traceback": [
      "(1,19): error CS1012: Too many characters in character literal"
     ]
    }
   ],
   "source": [
    "mi_lista.insert(3,'Negro')"
   ]
  },
  {
   "cell_type": "code",
   "execution_count": 37,
   "metadata": {
    "vscode": {
     "languageId": "polyglot-notebook"
    }
   },
   "outputs": [
    {
     "ename": "Error",
     "evalue": "(1,22): error CS1012: Too many characters in character literal",
     "output_type": "error",
     "traceback": [
      "(1,22): error CS1012: Too many characters in character literal"
     ]
    }
   ],
   "source": [
    "print(mi_lista.index('Azul'))"
   ]
  },
  {
   "cell_type": "code",
   "execution_count": 38,
   "metadata": {
    "vscode": {
     "languageId": "polyglot-notebook"
    }
   },
   "outputs": [
    {
     "ename": "Error",
     "evalue": "(1,19): error CS1012: Too many characters in character literal",
     "output_type": "error",
     "traceback": [
      "(1,19): error CS1012: Too many characters in character literal"
     ]
    }
   ],
   "source": [
    "mi_lista.insert(3,'Negro')"
   ]
  },
  {
   "cell_type": "code",
   "execution_count": 39,
   "metadata": {
    "vscode": {
     "languageId": "polyglot-notebook"
    }
   },
   "outputs": [
    {
     "ename": "Error",
     "evalue": "(1,17): error CS1026: ) expected\r\n(1,18): error CS1012: Too many characters in character literal\r\n(1,27): error CS1012: Too many characters in character literal\r\n(1,34): error CS1002: ; expected\r\n(1,34): error CS7017: Member definition, statement, or end-of-file expected",
     "output_type": "error",
     "traceback": [
      "(1,17): error CS1026: ) expected\r\n",
      "(1,18): error CS1012: Too many characters in character literal\r\n",
      "(1,27): error CS1012: Too many characters in character literal\r\n",
      "(1,34): error CS1002: ; expected\r\n",
      "(1,34): error CS7017: Member definition, statement, or end-of-file expected"
     ]
    }
   ],
   "source": [
    "mi_lista.extend(['Marrón','Gris'])"
   ]
  },
  {
   "cell_type": "code",
   "execution_count": 40,
   "metadata": {
    "vscode": {
     "languageId": "polyglot-notebook"
    }
   },
   "outputs": [
    {
     "ename": "Error",
     "evalue": "(1,7): error CS1026: ) expected\r\n(1,24): error CS1002: ; expected\r\n(1,24): error CS7017: Member definition, statement, or end-of-file expected",
     "output_type": "error",
     "traceback": [
      "(1,7): error CS1026: ) expected\r\n",
      "(1,24): error CS1002: ; expected\r\n",
      "(1,24): error CS7017: Member definition, statement, or end-of-file expected"
     ]
    }
   ],
   "source": [
    "print(['a','b','c'] * 3)"
   ]
  },
  {
   "cell_type": "code",
   "execution_count": 41,
   "metadata": {
    "vscode": {
     "languageId": "polyglot-notebook"
    }
   },
   "outputs": [
    {
     "ename": "Error",
     "evalue": "(1,22): error CS1012: Too many characters in character literal",
     "output_type": "error",
     "traceback": [
      "(1,22): error CS1012: Too many characters in character literal"
     ]
    }
   ],
   "source": [
    "print(mi_lista.index('Azul'))"
   ]
  },
  {
   "cell_type": "code",
   "execution_count": 42,
   "metadata": {
    "vscode": {
     "languageId": "polyglot-notebook"
    }
   },
   "outputs": [
    {
     "ename": "Error",
     "evalue": "(1,17): error CS1012: Too many characters in character literal",
     "output_type": "error",
     "traceback": [
      "(1,17): error CS1012: Too many characters in character literal"
     ]
    }
   ],
   "source": [
    "mi_lista.remove('Blanco')"
   ]
  },
  {
   "cell_type": "code",
   "execution_count": 43,
   "metadata": {
    "vscode": {
     "languageId": "polyglot-notebook"
    }
   },
   "outputs": [
    {
     "ename": "Error",
     "evalue": "(1,17): error CS1012: Too many characters in character literal",
     "output_type": "error",
     "traceback": [
      "(1,17): error CS1012: Too many characters in character literal"
     ]
    }
   ],
   "source": [
    "mi_lista.remove('Negro')"
   ]
  },
  {
   "cell_type": "code",
   "execution_count": 44,
   "metadata": {
    "vscode": {
     "languageId": "polyglot-notebook"
    }
   },
   "outputs": [
    {
     "ename": "Error",
     "evalue": "(1,1): error CS0103: The name 'ultimo' does not exist in the current context\r\n(1,10): error CS0103: The name 'mi_lista' does not exist in the current context",
     "output_type": "error",
     "traceback": [
      "(1,1): error CS0103: The name 'ultimo' does not exist in the current context\r\n",
      "(1,10): error CS0103: The name 'mi_lista' does not exist in the current context"
     ]
    }
   ],
   "source": [
    "ultimo = mi_lista.pop()"
   ]
  },
  {
   "cell_type": "code",
   "execution_count": 45,
   "metadata": {
    "vscode": {
     "languageId": "polyglot-notebook"
    }
   },
   "outputs": [
    {
     "ename": "Error",
     "evalue": "(1,24): error CS1002: ; expected",
     "output_type": "error",
     "traceback": [
      "(1,24): error CS1002: ; expected"
     ]
    }
   ],
   "source": [
    "ultimo = mi_lista.pop()\n",
    "print(ultimo)"
   ]
  },
  {
   "cell_type": "code",
   "execution_count": 46,
   "metadata": {
    "vscode": {
     "languageId": "polyglot-notebook"
    }
   },
   "outputs": [
    {
     "ename": "Error",
     "evalue": "(1,1): error CS0103: The name 'ultimo' does not exist in the current context\r\n(1,10): error CS0103: The name 'mi_lista' does not exist in the current context",
     "output_type": "error",
     "traceback": [
      "(1,1): error CS0103: The name 'ultimo' does not exist in the current context\r\n",
      "(1,10): error CS0103: The name 'mi_lista' does not exist in the current context"
     ]
    }
   ],
   "source": [
    "ultimo = mi_lista.pop()"
   ]
  },
  {
   "cell_type": "code",
   "execution_count": 47,
   "metadata": {
    "vscode": {
     "languageId": "polyglot-notebook"
    }
   },
   "outputs": [
    {
     "ename": "Error",
     "evalue": "(1,1): error CS0103: The name 'ultimo' does not exist in the current context",
     "output_type": "error",
     "traceback": [
      "(1,1): error CS0103: The name 'ultimo' does not exist in the current context"
     ]
    }
   ],
   "source": [
    "ultimo"
   ]
  },
  {
   "cell_type": "code",
   "execution_count": 48,
   "metadata": {
    "vscode": {
     "languageId": "polyglot-notebook"
    }
   },
   "outputs": [
    {
     "ename": "Error",
     "evalue": "(1,1): error CS0103: The name 'mi_tupla' does not exist in the current context\r\n(1,10): error CS0103: The name 'tuple' does not exist in the current context\r\n(1,16): error CS0103: The name 'mi_lista' does not exist in the current context",
     "output_type": "error",
     "traceback": [
      "(1,1): error CS0103: The name 'mi_tupla' does not exist in the current context\r\n",
      "(1,10): error CS0103: The name 'tuple' does not exist in the current context\r\n",
      "(1,16): error CS0103: The name 'mi_lista' does not exist in the current context"
     ]
    }
   ],
   "source": [
    "mi_tupla=tuple(mi_lista)"
   ]
  },
  {
   "cell_type": "code",
   "execution_count": 49,
   "metadata": {
    "vscode": {
     "languageId": "polyglot-notebook"
    }
   },
   "outputs": [
    {
     "ename": "Error",
     "evalue": "(1,1): error CS0103: The name 'print' does not exist in the current context\r\n(1,7): error CS0103: The name 'mi_tupla' does not exist in the current context",
     "output_type": "error",
     "traceback": [
      "(1,1): error CS0103: The name 'print' does not exist in the current context\r\n",
      "(1,7): error CS0103: The name 'mi_tupla' does not exist in the current context"
     ]
    }
   ],
   "source": [
    "print(mi_tupla[1])"
   ]
  },
  {
   "cell_type": "code",
   "execution_count": 50,
   "metadata": {
    "vscode": {
     "languageId": "polyglot-notebook"
    }
   },
   "outputs": [
    {
     "ename": "Error",
     "evalue": "(1,1): error CS1012: Too many characters in character literal\r\n(1,8): error CS1002: ; expected\r\n(1,8): error CS7017: Member definition, statement, or end-of-file expected",
     "output_type": "error",
     "traceback": [
      "(1,1): error CS1012: Too many characters in character literal\r\n",
      "(1,8): error CS1002: ; expected\r\n",
      "(1,8): error CS7017: Member definition, statement, or end-of-file expected"
     ]
    }
   ],
   "source": [
    "'Rojo' in mi_tupla"
   ]
  },
  {
   "cell_type": "code",
   "execution_count": 51,
   "metadata": {
    "vscode": {
     "languageId": "polyglot-notebook"
    }
   },
   "outputs": [
    {
     "ename": "Error",
     "evalue": "(1,17): error CS1012: Too many characters in character literal",
     "output_type": "error",
     "traceback": [
      "(1,17): error CS1012: Too many characters in character literal"
     ]
    }
   ],
   "source": [
    " mi_tupla.count('Rojo')"
   ]
  },
  {
   "cell_type": "code",
   "execution_count": 52,
   "metadata": {
    "vscode": {
     "languageId": "polyglot-notebook"
    }
   },
   "outputs": [
    {
     "ename": "Error",
     "evalue": "(1,16): error CS1001: Identifier expected",
     "output_type": "error",
     "traceback": [
      "(1,16): error CS1001: Identifier expected"
     ]
    }
   ],
   "source": [
    "print(mi_lista[:] * 3)"
   ]
  },
  {
   "cell_type": "code",
   "execution_count": 53,
   "metadata": {
    "vscode": {
     "languageId": "polyglot-notebook"
    }
   },
   "outputs": [
    {
     "ename": "Error",
     "evalue": "(1,16): error CS1012: Too many characters in character literal",
     "output_type": "error",
     "traceback": [
      "(1,16): error CS1012: Too many characters in character literal"
     ]
    }
   ],
   "source": [
    "mi_tupla.count('Rojo')"
   ]
  },
  {
   "cell_type": "code",
   "execution_count": 54,
   "metadata": {
    "vscode": {
     "languageId": "polyglot-notebook"
    }
   },
   "outputs": [
    {
     "ename": "Error",
     "evalue": "(1,10): error CS1012: Too many characters in character literal\r\n(1,18): error CS1002: ; expected\r\n(1,18): error CS7017: Member definition, statement, or end-of-file expected\r\n(1,21): error CS1002: ; expected\r\n(1,21): error CS7017: Member definition, statement, or end-of-file expected\r\n(1,24): error CS1002: ; expected\r\n(1,24): error CS7017: Member definition, statement, or end-of-file expected",
     "output_type": "error",
     "traceback": [
      "(1,10): error CS1012: Too many characters in character literal\r\n",
      "(1,18): error CS1002: ; expected\r\n",
      "(1,18): error CS7017: Member definition, statement, or end-of-file expected\r\n",
      "(1,21): error CS1002: ; expected\r\n",
      "(1,21): error CS7017: Member definition, statement, or end-of-file expected\r\n",
      "(1,24): error CS1002: ; expected\r\n",
      "(1,24): error CS7017: Member definition, statement, or end-of-file expected"
     ]
    }
   ],
   "source": [
    "mi_tupla='Gaspar', 5, 8, 1999"
   ]
  },
  {
   "cell_type": "code",
   "execution_count": 55,
   "metadata": {
    "vscode": {
     "languageId": "polyglot-notebook"
    }
   },
   "outputs": [
    {
     "ename": "Error",
     "evalue": "(1,7): error CS1002: ; expected\r\n(1,7): error CS7017: Member definition, statement, or end-of-file expected\r\n(1,12): error CS1002: ; expected\r\n(1,12): error CS7017: Member definition, statement, or end-of-file expected\r\n(1,17): error CS1002: ; expected\r\n(1,17): error CS7017: Member definition, statement, or end-of-file expected\r\n(1,33): error CS1002: ; expected",
     "output_type": "error",
     "traceback": [
      "(1,7): error CS1002: ; expected\r\n",
      "(1,7): error CS7017: Member definition, statement, or end-of-file expected\r\n",
      "(1,12): error CS1002: ; expected\r\n",
      "(1,12): error CS7017: Member definition, statement, or end-of-file expected\r\n",
      "(1,17): error CS1002: ; expected\r\n",
      "(1,17): error CS7017: Member definition, statement, or end-of-file expected\r\n",
      "(1,33): error CS1002: ; expected"
     ]
    }
   ],
   "source": [
    "nombre, dia, mes, año = mi_tupla\n",
    "print(\"Nombre: \", nombre, \" - Dia:\", dia, \" - Mes: \", mes, \" - Año: \", año)"
   ]
  },
  {
   "cell_type": "code",
   "execution_count": 56,
   "metadata": {
    "vscode": {
     "languageId": "polyglot-notebook"
    }
   },
   "outputs": [
    {
     "ename": "Error",
     "evalue": "(1,10): error CS1012: Too many characters in character literal\r\n(1,17): error CS1002: ; expected\r\n(2,10): error CS1002: ; expected\r\n(3,20): error CS1002: ; expected\r\n(4,60): error CS1002: ; expected",
     "output_type": "error",
     "traceback": [
      "(1,10): error CS1012: Too many characters in character literal\r\n",
      "(1,17): error CS1002: ; expected\r\n",
      "(2,10): error CS1002: ; expected\r\n",
      "(3,20): error CS1002: ; expected\r\n",
      "(4,60): error CS1002: ; expected"
     ]
    }
   ],
   "source": [
    "nombre = 'Darío'\n",
    "edad = 39\n",
    "print(nombre, edad)\n",
    "print(\"Mi nombre es\", nombre, \". Mi edad es\", edad, \"años\")\n",
    "print(\"Mi nombre es {}. Mi edad es {} años\". format(nombre, edad))"
   ]
  },
  {
   "cell_type": "code",
   "execution_count": 58,
   "metadata": {
    "dotnet_interactive": {
     "language": "pwsh"
    },
    "polyglot_notebook": {
     "kernelName": "pwsh"
    },
    "vscode": {
     "languageId": "polyglot-notebook"
    }
   },
   "outputs": [
    {
     "name": "stdout",
     "output_type": "stream",
     "text": [
      "\u001b[31;1mParserError: \u001b[0m\n",
      "\u001b[31;1m\u001b[36;1mLine |\u001b[0m\n",
      "\u001b[31;1m\u001b[36;1m\u001b[36;1m   1 | \u001b[0m mi_diccionario = {  'Colores Primarios'\u001b[36;1m:\u001b[0m ['Rojo','Azul','Amarillo'],\u001b[0m\n",
      "\u001b[31;1m\u001b[36;1m\u001b[36;1m\u001b[0m\u001b[36;1m\u001b[0m\u001b[36;1m     | \u001b[31;1m                                        ~\u001b[0m\n",
      "\u001b[31;1m\u001b[36;1m\u001b[36;1m\u001b[0m\u001b[36;1m\u001b[0m\u001b[36;1m\u001b[31;1m\u001b[31;1m\u001b[36;1m     | \u001b[31;1mUnexpected token ':' in expression or statement.\u001b[0m\n"
     ]
    }
   ],
   "source": [
    "mi_diccionario = {  'Colores Primarios': ['Rojo','Azul','Amarillo'], \n",
    "                    'Colores secundarios': ['Naranja','Violeta','Verde'], \n",
    "                    'Clave3': 10,\n",
    "                    'Clave4': False}"
   ]
  },
  {
   "cell_type": "code",
   "execution_count": 59,
   "metadata": {
    "vscode": {
     "languageId": "polyglot-notebook"
    }
   },
   "outputs": [
    {
     "ename": "Error",
     "evalue": "(1,22): error CS1012: Too many characters in character literal",
     "output_type": "error",
     "traceback": [
      "(1,22): error CS1012: Too many characters in character literal"
     ]
    }
   ],
   "source": [
    "print(mi_diccionario['Colores secundarios'])"
   ]
  },
  {
   "cell_type": "code",
   "execution_count": 60,
   "metadata": {
    "vscode": {
     "languageId": "polyglot-notebook"
    }
   },
   "outputs": [
    {
     "ename": "Error",
     "evalue": "(1,16): error CS1525: Invalid expression term '{'\r\n(1,16): error CS1002: ; expected\r\n(1,17): error CS1012: Too many characters in character literal\r\n(1,25): error CS1002: ; expected\r\n(1,25): error CS1513: } expected\r\n(1,26): error CS1012: Too many characters in character literal\r\n(1,34): error CS1002: ; expected\r\n(1,34): error CS1513: } expected\r\n(1,36): error CS1012: Too many characters in character literal\r\n(1,44): error CS1002: ; expected\r\n(1,44): error CS1513: } expected\r\n(1,46): error CS1012: Too many characters in character literal\r\n(1,55): error CS1002: ; expected\r\n(1,55): error CS1513: } expected\r\n(1,57): error CS1001: Identifier expected\r\n(1,57): error CS1003: Syntax error, ']' expected\r\n(1,58): error CS1002: ; expected\r\n(1,58): error CS1513: } expected\r\n(1,60): error CS1002: ; expected\r\n(1,60): error CS1513: } expected\r\n(1,62): error CS1002: ; expected\r\n(1,62): error CS1513: } expected\r\n(1,64): error CS1002: ; expected\r\n(1,64): error CS1513: } expected\r\n(1,66): error CS1002: ; expected\r\n(1,66): error CS1513: } expected",
     "output_type": "error",
     "traceback": [
      "(1,16): error CS1525: Invalid expression term '{'\r\n",
      "(1,16): error CS1002: ; expected\r\n",
      "(1,17): error CS1012: Too many characters in character literal\r\n",
      "(1,25): error CS1002: ; expected\r\n",
      "(1,25): error CS1513: } expected\r\n",
      "(1,26): error CS1012: Too many characters in character literal\r\n",
      "(1,34): error CS1002: ; expected\r\n",
      "(1,34): error CS1513: } expected\r\n",
      "(1,36): error CS1012: Too many characters in character literal\r\n",
      "(1,44): error CS1002: ; expected\r\n",
      "(1,44): error CS1513: } expected\r\n",
      "(1,46): error CS1012: Too many characters in character literal\r\n",
      "(1,55): error CS1002: ; expected\r\n",
      "(1,55): error CS1513: } expected\r\n",
      "(1,57): error CS1001: Identifier expected\r\n",
      "(1,57): error CS1003: Syntax error, ']' expected\r\n",
      "(1,58): error CS1002: ; expected\r\n",
      "(1,58): error CS1513: } expected\r\n",
      "(1,60): error CS1002: ; expected\r\n",
      "(1,60): error CS1513: } expected\r\n",
      "(1,62): error CS1002: ; expected\r\n",
      "(1,62): error CS1513: } expected\r\n",
      "(1,64): error CS1002: ; expected\r\n",
      "(1,64): error CS1513: } expected\r\n",
      "(1,66): error CS1002: ; expected\r\n",
      "(1,66): error CS1513: } expected"
     ]
    }
   ],
   "source": [
    "mi_diccionario={'Clave1':'Valor1', 'Clave2':{'numeros':[1,2,3,4,5]}}"
   ]
  },
  {
   "cell_type": "code",
   "execution_count": 61,
   "metadata": {
    "vscode": {
     "languageId": "polyglot-notebook"
    }
   },
   "outputs": [
    {
     "ename": "Error",
     "evalue": "(1,1): error CS0103: The name 'print' does not exist in the current context\r\n(1,7): error CS0103: The name 'mi_diccionario' does not exist in the current context",
     "output_type": "error",
     "traceback": [
      "(1,1): error CS0103: The name 'print' does not exist in the current context\r\n",
      "(1,7): error CS0103: The name 'mi_diccionario' does not exist in the current context"
     ]
    }
   ],
   "source": [
    "print(mi_diccionario.keys())"
   ]
  },
  {
   "cell_type": "code",
   "execution_count": 62,
   "metadata": {
    "vscode": {
     "languageId": "polyglot-notebook"
    }
   },
   "outputs": [
    {
     "ename": "Error",
     "evalue": "(1,1): error CS0103: The name 'print' does not exist in the current context\r\n(1,7): error CS0103: The name 'mi_diccionario' does not exist in the current context",
     "output_type": "error",
     "traceback": [
      "(1,1): error CS0103: The name 'print' does not exist in the current context\r\n",
      "(1,7): error CS0103: The name 'mi_diccionario' does not exist in the current context"
     ]
    }
   ],
   "source": [
    "print(mi_diccionario.values())"
   ]
  },
  {
   "cell_type": "code",
   "execution_count": 63,
   "metadata": {
    "vscode": {
     "languageId": "polyglot-notebook"
    }
   },
   "outputs": [
    {
     "ename": "Error",
     "evalue": "(1,1): error CS0103: The name 'len' does not exist in the current context\r\n(1,5): error CS0103: The name 'mi_diccionario' does not exist in the current context",
     "output_type": "error",
     "traceback": [
      "(1,1): error CS0103: The name 'len' does not exist in the current context\r\n",
      "(1,5): error CS0103: The name 'mi_diccionario' does not exist in the current context"
     ]
    }
   ],
   "source": [
    "len(mi_diccionario)"
   ]
  },
  {
   "cell_type": "code",
   "execution_count": 64,
   "metadata": {
    "vscode": {
     "languageId": "polyglot-notebook"
    }
   },
   "outputs": [
    {
     "ename": "Error",
     "evalue": "(1,10): error CS1002: ; expected\r\n(2,16): error CS1002: ; expected\r\n(3,23): error CS1525: Invalid expression term ':'\r\n(3,23): error CS1002: ; expected\r\n(3,23): error CS7017: Member definition, statement, or end-of-file expected\r\n(4,16): error CS1002: ; expected\r\n(5,20): error CS1525: Invalid expression term ':'\r\n(5,20): error CS1002: ; expected\r\n(5,20): error CS7017: Member definition, statement, or end-of-file expected\r\n(6,26): error CS1002: ; expected\r\n(6,26): error CS8641: 'else' cannot start a statement.\r\n(6,26): error CS1003: Syntax error, '(' expected\r\n(6,26): error CS1525: Invalid expression term 'else'\r\n(6,26): error CS1026: ) expected\r\n(6,26): error CS1525: Invalid expression term 'else'\r\n(6,26): error CS1002: ; expected\r\n(7,9): error CS1525: Invalid expression term ':'\r\n(7,9): error CS1002: ; expected\r\n(7,9): error CS7017: Member definition, statement, or end-of-file expected\r\n(8,26): error CS1002: ; expected\r\n(8,26): error CS8641: 'else' cannot start a statement.\r\n(8,26): error CS1003: Syntax error, '(' expected\r\n(8,26): error CS1525: Invalid expression term 'else'\r\n(8,26): error CS1026: ) expected\r\n(8,26): error CS1525: Invalid expression term 'else'\r\n(8,26): error CS1002: ; expected\r\n(9,5): error CS1525: Invalid expression term ':'\r\n(9,5): error CS1002: ; expected\r\n(9,5): error CS7017: Member definition, statement, or end-of-file expected",
     "output_type": "error",
     "traceback": [
      "(1,10): error CS1002: ; expected\r\n",
      "(2,16): error CS1002: ; expected\r\n",
      "(3,23): error CS1525: Invalid expression term ':'\r\n",
      "(3,23): error CS1002: ; expected\r\n",
      "(3,23): error CS7017: Member definition, statement, or end-of-file expected\r\n",
      "(4,16): error CS1002: ; expected\r\n",
      "(5,20): error CS1525: Invalid expression term ':'\r\n",
      "(5,20): error CS1002: ; expected\r\n",
      "(5,20): error CS7017: Member definition, statement, or end-of-file expected\r\n",
      "(6,26): error CS1002: ; expected\r\n",
      "(6,26): error CS8641: 'else' cannot start a statement.\r\n",
      "(6,26): error CS1003: Syntax error, '(' expected\r\n",
      "(6,26): error CS1525: Invalid expression term 'else'\r\n",
      "(6,26): error CS1026: ) expected\r\n",
      "(6,26): error CS1525: Invalid expression term 'else'\r\n",
      "(6,26): error CS1002: ; expected\r\n",
      "(7,9): error CS1525: Invalid expression term ':'\r\n",
      "(7,9): error CS1002: ; expected\r\n",
      "(7,9): error CS7017: Member definition, statement, or end-of-file expected\r\n",
      "(8,26): error CS1002: ; expected\r\n",
      "(8,26): error CS8641: 'else' cannot start a statement.\r\n",
      "(8,26): error CS1003: Syntax error, '(' expected\r\n",
      "(8,26): error CS1525: Invalid expression term 'else'\r\n",
      "(8,26): error CS1026: ) expected\r\n",
      "(8,26): error CS1525: Invalid expression term 'else'\r\n",
      "(8,26): error CS1002: ; expected\r\n",
      "(9,5): error CS1525: Invalid expression term ':'\r\n",
      "(9,5): error CS1002: ; expected\r\n",
      "(9,5): error CS7017: Member definition, statement, or end-of-file expected"
     ]
    }
   ],
   "source": [
    "edad = 60\n",
    "edad_compa = 50\n",
    "if (edad < edad_compa):\n",
    "    print(edad)\n",
    "    if (edad < 100):\n",
    "        print(edad + 100)\n",
    "    else:\n",
    "        print(edad - 100)\n",
    "else:\n",
    "    print(edad_compa)"
   ]
  },
  {
   "cell_type": "code",
   "execution_count": 65,
   "metadata": {
    "vscode": {
     "languageId": "polyglot-notebook"
    }
   },
   "outputs": [
    {
     "ename": "Error",
     "evalue": "(1,15): error CS1525: Invalid expression term '['\r\n(1,36): error CS1002: ; expected",
     "output_type": "error",
     "traceback": [
      "(1,15): error CS1525: Invalid expression term '['\r\n",
      "(1,36): error CS1002: ; expected"
     ]
    }
   ],
   "source": [
    "primeros_10 = [0,1,2,3,4,5,6,7,8,9]\n",
    "print(primeros_10)"
   ]
  },
  {
   "cell_type": "code",
   "execution_count": 66,
   "metadata": {
    "vscode": {
     "languageId": "polyglot-notebook"
    }
   },
   "outputs": [
    {
     "ename": "Error",
     "evalue": "(1,5): error CS1003: Syntax error, '(' expected\r\n(1,7): error CS1003: Syntax error, ',' expected\r\n(1,10): error CS1003: Syntax error, ',' expected\r\n(1,21): error CS1003: Syntax error, ',' expected\r\n(1,22): error CS1002: ; expected\r\n(1,22): error CS1525: Invalid expression term 'if'\r\n(1,22): error CS1002: ; expected\r\n(1,22): error CS1026: ) expected\r\n(2,18): error CS1525: Invalid expression term ':'\r\n(2,18): error CS1002: ; expected\r\n(2,18): error CS7017: Member definition, statement, or end-of-file expected\r\n(3,17): error CS1002: ; expected\r\n(4,25): error CS1002: ; expected",
     "output_type": "error",
     "traceback": [
      "(1,5): error CS1003: Syntax error, '(' expected\r\n",
      "(1,7): error CS1003: Syntax error, ',' expected\r\n",
      "(1,10): error CS1003: Syntax error, ',' expected\r\n",
      "(1,21): error CS1003: Syntax error, ',' expected\r\n",
      "(1,22): error CS1002: ; expected\r\n",
      "(1,22): error CS1525: Invalid expression term 'if'\r\n",
      "(1,22): error CS1002: ; expected\r\n",
      "(1,22): error CS1026: ) expected\r\n",
      "(2,18): error CS1525: Invalid expression term ':'\r\n",
      "(2,18): error CS1002: ; expected\r\n",
      "(2,18): error CS7017: Member definition, statement, or end-of-file expected\r\n",
      "(3,17): error CS1002: ; expected\r\n",
      "(4,25): error CS1002: ; expected"
     ]
    }
   ],
   "source": [
    "for n in primeros_10:\n",
    "    if (n%2 == 0):\n",
    "        print(n)\n",
    "        primeros_10[n]=0\n",
    "print(\"\\nva de nuevo....\\n\")"
   ]
  },
  {
   "cell_type": "code",
   "execution_count": 67,
   "metadata": {
    "vscode": {
     "languageId": "polyglot-notebook"
    }
   },
   "outputs": [
    {
     "ename": "Error",
     "evalue": "(1,1): error CS0103: The name 'print' does not exist in the current context\r\n(1,7): error CS0103: The name 'primeros_10' does not exist in the current context",
     "output_type": "error",
     "traceback": [
      "(1,1): error CS0103: The name 'print' does not exist in the current context\r\n",
      "(1,7): error CS0103: The name 'primeros_10' does not exist in the current context"
     ]
    }
   ],
   "source": [
    "print(primeros_10)"
   ]
  },
  {
   "cell_type": "code",
   "execution_count": 68,
   "metadata": {
    "vscode": {
     "languageId": "polyglot-notebook"
    }
   },
   "outputs": [
    {
     "ename": "Error",
     "evalue": "(1,5): error CS1003: Syntax error, '(' expected\r\n(1,7): error CS1003: Syntax error, ',' expected\r\n(1,10): error CS1003: Syntax error, ',' expected\r\n(1,21): error CS1003: Syntax error, ',' expected\r\n(1,22): error CS1003: Syntax error, ',' expected\r\n(2,26): error CS1003: Syntax error, ',' expected\r\n(3,29): error CS1002: ; expected\r\n(3,29): error CS1733: Expected expression\r\n(3,29): error CS1002: ; expected\r\n(3,29): error CS1026: ) expected\r\n(3,29): error CS1733: Expected expression\r\n(3,29): error CS1002: ; expected",
     "output_type": "error",
     "traceback": [
      "(1,5): error CS1003: Syntax error, '(' expected\r\n",
      "(1,7): error CS1003: Syntax error, ',' expected\r\n",
      "(1,10): error CS1003: Syntax error, ',' expected\r\n",
      "(1,21): error CS1003: Syntax error, ',' expected\r\n",
      "(1,22): error CS1003: Syntax error, ',' expected\r\n",
      "(2,26): error CS1003: Syntax error, ',' expected\r\n",
      "(3,29): error CS1002: ; expected\r\n",
      "(3,29): error CS1733: Expected expression\r\n",
      "(3,29): error CS1002: ; expected\r\n",
      "(3,29): error CS1026: ) expected\r\n",
      "(3,29): error CS1733: Expected expression\r\n",
      "(3,29): error CS1002: ; expected"
     ]
    }
   ],
   "source": [
    "for n in primeros_10:\n",
    "    print(primeros_10[n])\n",
    "print(\"\\nva de nuevo....\\n\")"
   ]
  },
  {
   "cell_type": "code",
   "execution_count": 69,
   "metadata": {
    "vscode": {
     "languageId": "polyglot-notebook"
    }
   },
   "outputs": [
    {
     "ename": "Error",
     "evalue": "(1,1): error CS0103: The name 'print' does not exist in the current context\r\n(1,7): error CS0103: The name 'primeros_10' does not exist in the current context",
     "output_type": "error",
     "traceback": [
      "(1,1): error CS0103: The name 'print' does not exist in the current context\r\n",
      "(1,7): error CS0103: The name 'primeros_10' does not exist in the current context"
     ]
    }
   ],
   "source": [
    "print(primeros_10[9])"
   ]
  },
  {
   "cell_type": "code",
   "execution_count": 70,
   "metadata": {
    "vscode": {
     "languageId": "polyglot-notebook"
    }
   },
   "outputs": [
    {
     "ename": "Error",
     "evalue": "(1,15): error CS1525: Invalid expression term '['",
     "output_type": "error",
     "traceback": [
      "(1,15): error CS1525: Invalid expression term '['"
     ]
    }
   ],
   "source": [
    "primeros_10 = ['a','b','c','d']"
   ]
  },
  {
   "cell_type": "code",
   "execution_count": 71,
   "metadata": {
    "vscode": {
     "languageId": "polyglot-notebook"
    }
   },
   "outputs": [
    {
     "ename": "Error",
     "evalue": "(1,1): error CS0103: The name 'primeros_10' does not exist in the current context",
     "output_type": "error",
     "traceback": [
      "(1,1): error CS0103: The name 'primeros_10' does not exist in the current context"
     ]
    }
   ],
   "source": [
    "primeros_10[4]"
   ]
  },
  {
   "cell_type": "code",
   "execution_count": 72,
   "metadata": {
    "vscode": {
     "languageId": "polyglot-notebook"
    }
   },
   "outputs": [
    {
     "ename": "Error",
     "evalue": "(1,7): error CS1002: ; expected\r\n(2,12): error CS1525: Invalid expression term '['",
     "output_type": "error",
     "traceback": [
      "(1,7): error CS1002: ; expected\r\n",
      "(2,12): error CS1525: Invalid expression term '['"
     ]
    }
   ],
   "source": [
    "n = 40\n",
    "sequence = [0,1]"
   ]
  },
  {
   "cell_type": "code",
   "execution_count": 73,
   "metadata": {
    "vscode": {
     "languageId": "polyglot-notebook"
    }
   },
   "outputs": [
    {
     "ename": "Error",
     "evalue": "(1,5): error CS1003: Syntax error, '(' expected\r\n(1,7): error CS1003: Syntax error, ',' expected\r\n(1,10): error CS1003: Syntax error, ',' expected\r\n(1,20): error CS1003: Syntax error, ',' expected\r\n(1,21): error CS1003: Syntax error, ',' expected\r\n(2,49): error CS1003: Syntax error, ',' expected\r\n(3,17): error CS1002: ; expected\r\n(3,17): error CS1733: Expected expression\r\n(3,17): error CS1002: ; expected\r\n(3,17): error CS1026: ) expected\r\n(3,17): error CS1733: Expected expression\r\n(3,17): error CS1002: ; expected",
     "output_type": "error",
     "traceback": [
      "(1,5): error CS1003: Syntax error, '(' expected\r\n",
      "(1,7): error CS1003: Syntax error, ',' expected\r\n",
      "(1,10): error CS1003: Syntax error, ',' expected\r\n",
      "(1,20): error CS1003: Syntax error, ',' expected\r\n",
      "(1,21): error CS1003: Syntax error, ',' expected\r\n",
      "(2,49): error CS1003: Syntax error, ',' expected\r\n",
      "(3,17): error CS1002: ; expected\r\n",
      "(3,17): error CS1733: Expected expression\r\n",
      "(3,17): error CS1002: ; expected\r\n",
      "(3,17): error CS1026: ) expected\r\n",
      "(3,17): error CS1733: Expected expression\r\n",
      "(3,17): error CS1002: ; expected"
     ]
    }
   ],
   "source": [
    "for i in range(2,n):\n",
    "    sequence.append(sequence[i-1]+sequence[i-2])\n",
    "print (sequence)"
   ]
  },
  {
   "cell_type": "code",
   "execution_count": 74,
   "metadata": {
    "vscode": {
     "languageId": "polyglot-notebook"
    }
   },
   "outputs": [
    {
     "ename": "Error",
     "evalue": "(1,18): error CS1525: Invalid expression term '{'\r\n(1,18): error CS1002: ; expected\r\n(1,21): error CS1012: Too many characters in character literal\r\n(1,40): error CS1002: ; expected\r\n(1,40): error CS1513: } expected\r\n(1,43): error CS1001: Identifier expected\r\n(1,43): error CS1003: Syntax error, ']' expected\r\n(1,43): error CS1012: Too many characters in character literal\r\n(1,49): error CS1002: ; expected\r\n(1,49): error CS1513: } expected\r\n(1,50): error CS1012: Too many characters in character literal\r\n(1,56): error CS1002: ; expected\r\n(1,56): error CS1513: } expected\r\n(1,57): error CS1012: Too many characters in character literal\r\n(1,67): error CS1002: ; expected\r\n(1,67): error CS1513: } expected\r\n(2,25): error CS1012: Too many characters in character literal\r\n(2,46): error CS1002: ; expected\r\n(2,46): error CS1513: } expected\r\n(2,49): error CS1001: Identifier expected\r\n(2,49): error CS1003: Syntax error, ']' expected\r\n(2,49): error CS1012: Too many characters in character literal\r\n(2,58): error CS1002: ; expected\r\n(2,58): error CS1513: } expected\r\n(2,59): error CS1012: Too many characters in character literal\r\n(2,68): error CS1002: ; expected\r\n(2,68): error CS1513: } expected\r\n(2,69): error CS1012: Too many characters in character literal\r\n(2,76): error CS1002: ; expected\r\n(2,76): error CS1513: } expected\r\n(3,25): error CS1012: Too many characters in character literal\r\n(3,33): error CS1002: ; expected\r\n(3,33): error CS1513: } expected\r\n(3,37): error CS1002: ; expected\r\n(3,37): error CS1513: } expected\r\n(4,25): error CS1012: Too many characters in character literal\r\n(4,33): error CS1002: ; expected\r\n(4,33): error CS1513: } expected\r\n(4,40): error CS1002: ; expected",
     "output_type": "error",
     "traceback": [
      "(1,18): error CS1525: Invalid expression term '{'\r\n",
      "(1,18): error CS1002: ; expected\r\n",
      "(1,21): error CS1012: Too many characters in character literal\r\n",
      "(1,40): error CS1002: ; expected\r\n",
      "(1,40): error CS1513: } expected\r\n",
      "(1,43): error CS1001: Identifier expected\r\n",
      "(1,43): error CS1003: Syntax error, ']' expected\r\n",
      "(1,43): error CS1012: Too many characters in character literal\r\n",
      "(1,49): error CS1002: ; expected\r\n",
      "(1,49): error CS1513: } expected\r\n",
      "(1,50): error CS1012: Too many characters in character literal\r\n",
      "(1,56): error CS1002: ; expected\r\n",
      "(1,56): error CS1513: } expected\r\n",
      "(1,57): error CS1012: Too many characters in character literal\r\n",
      "(1,67): error CS1002: ; expected\r\n",
      "(1,67): error CS1513: } expected\r\n",
      "(2,25): error CS1012: Too many characters in character literal\r\n",
      "(2,46): error CS1002: ; expected\r\n",
      "(2,46): error CS1513: } expected\r\n",
      "(2,49): error CS1001: Identifier expected\r\n",
      "(2,49): error CS1003: Syntax error, ']' expected\r\n",
      "(2,49): error CS1012: Too many characters in character literal\r\n",
      "(2,58): error CS1002: ; expected\r\n",
      "(2,58): error CS1513: } expected\r\n",
      "(2,59): error CS1012: Too many characters in character literal\r\n",
      "(2,68): error CS1002: ; expected\r\n",
      "(2,68): error CS1513: } expected\r\n",
      "(2,69): error CS1012: Too many characters in character literal\r\n",
      "(2,76): error CS1002: ; expected\r\n",
      "(2,76): error CS1513: } expected\r\n",
      "(3,25): error CS1012: Too many characters in character literal\r\n",
      "(3,33): error CS1002: ; expected\r\n",
      "(3,33): error CS1513: } expected\r\n",
      "(3,37): error CS1002: ; expected\r\n",
      "(3,37): error CS1513: } expected\r\n",
      "(4,25): error CS1012: Too many characters in character literal\r\n",
      "(4,33): error CS1002: ; expected\r\n",
      "(4,33): error CS1513: } expected\r\n",
      "(4,40): error CS1002: ; expected"
     ]
    }
   ],
   "source": [
    "mi_diccionario = {  'Colores Primarios': ['Rojo','Azul','Amarillo'], \n",
    "                        'Colores secundarios': ['Naranja','Violeta','Verde'], \n",
    "                        'Clave3': 10,\n",
    "                        'Clave4': False}"
   ]
  },
  {
   "cell_type": "code",
   "execution_count": 75,
   "metadata": {
    "vscode": {
     "languageId": "polyglot-notebook"
    }
   },
   "outputs": [
    {
     "ename": "Error",
     "evalue": "(1,22): error CS1012: Too many characters in character literal",
     "output_type": "error",
     "traceback": [
      "(1,22): error CS1012: Too many characters in character literal"
     ]
    }
   ],
   "source": [
    "print(mi_diccionario['Colores secundarios'])"
   ]
  },
  {
   "cell_type": "code",
   "execution_count": 76,
   "metadata": {
    "vscode": {
     "languageId": "polyglot-notebook"
    }
   },
   "outputs": [
    {
     "ename": "Error",
     "evalue": "(1,16): error CS1012: Too many characters in character literal",
     "output_type": "error",
     "traceback": [
      "(1,16): error CS1012: Too many characters in character literal"
     ]
    }
   ],
   "source": [
    "mi_diccionario['Clave3']=2"
   ]
  },
  {
   "cell_type": "code",
   "execution_count": 77,
   "metadata": {
    "vscode": {
     "languageId": "polyglot-notebook"
    }
   },
   "outputs": [
    {
     "ename": "Error",
     "evalue": "(1,1): error CS0103: The name 'mi_diccionario' does not exist in the current context",
     "output_type": "error",
     "traceback": [
      "(1,1): error CS0103: The name 'mi_diccionario' does not exist in the current context"
     ]
    }
   ],
   "source": [
    "mi_diccionario"
   ]
  },
  {
   "cell_type": "code",
   "execution_count": 78,
   "metadata": {
    "vscode": {
     "languageId": "polyglot-notebook"
    }
   },
   "outputs": [
    {
     "ename": "Error",
     "evalue": "(1,16): error CS1012: Too many characters in character literal\r\n(1,26): error CS1012: Too many characters in character literal",
     "output_type": "error",
     "traceback": [
      "(1,16): error CS1012: Too many characters in character literal\r\n",
      "(1,26): error CS1012: Too many characters in character literal"
     ]
    }
   ],
   "source": [
    "mi_diccionario['Clave5']='Otro ejemplo'"
   ]
  },
  {
   "cell_type": "code",
   "execution_count": 79,
   "metadata": {
    "vscode": {
     "languageId": "polyglot-notebook"
    }
   },
   "outputs": [
    {
     "ename": "Error",
     "evalue": "(1,47): error CS1002: ; expected\r\n(2,16): error CS1525: Invalid expression term '{'\r\n(2,16): error CS1002: ; expected\r\n(2,28): error CS1002: ; expected\r\n(2,28): error CS1513: } expected\r\n(2,43): error CS1002: ; expected\r\n(2,43): error CS1513: } expected\r\n(2,56): error CS1002: ; expected\r\n(2,56): error CS1513: } expected\r\n(2,63): error CS1002: ; expected\r\n(2,63): error CS1513: } expected\r\n(2,76): error CS1002: ; expected\r\n(2,76): error CS1513: } expected\r\n(2,86): error CS1002: ; expected",
     "output_type": "error",
     "traceback": [
      "(1,47): error CS1002: ; expected\r\n",
      "(2,16): error CS1525: Invalid expression term '{'\r\n",
      "(2,16): error CS1002: ; expected\r\n",
      "(2,28): error CS1002: ; expected\r\n",
      "(2,28): error CS1513: } expected\r\n",
      "(2,43): error CS1002: ; expected\r\n",
      "(2,43): error CS1513: } expected\r\n",
      "(2,56): error CS1002: ; expected\r\n",
      "(2,56): error CS1513: } expected\r\n",
      "(2,63): error CS1002: ; expected\r\n",
      "(2,63): error CS1513: } expected\r\n",
      "(2,76): error CS1002: ; expected\r\n",
      "(2,76): error CS1513: } expected\r\n",
      "(2,86): error CS1002: ; expected"
     ]
    }
   ],
   "source": [
    "mi_tupla=(\"Argentina\", \"Italia\", \"Inglaterra\")\n",
    "mi_diccionario={mi_tupla[0]:\"Buenos Aires\", mi_tupla[1]:\"Roma\", mi_tupla[2]:\"Londres\"}"
   ]
  },
  {
   "cell_type": "code",
   "execution_count": 80,
   "metadata": {
    "vscode": {
     "languageId": "polyglot-notebook"
    }
   },
   "outputs": [
    {
     "ename": "Error",
     "evalue": "(1,16): error CS1525: Invalid expression term '{'\r\n(1,16): error CS1002: ; expected\r\n(1,17): error CS1012: Too many characters in character literal\r\n(1,25): error CS1002: ; expected\r\n(1,25): error CS1513: } expected\r\n(1,26): error CS1012: Too many characters in character literal\r\n(1,34): error CS1002: ; expected\r\n(1,34): error CS1513: } expected\r\n(1,36): error CS1012: Too many characters in character literal\r\n(1,44): error CS1002: ; expected\r\n(1,44): error CS1513: } expected\r\n(1,56): error CS1002: ; expected",
     "output_type": "error",
     "traceback": [
      "(1,16): error CS1525: Invalid expression term '{'\r\n",
      "(1,16): error CS1002: ; expected\r\n",
      "(1,17): error CS1012: Too many characters in character literal\r\n",
      "(1,25): error CS1002: ; expected\r\n",
      "(1,25): error CS1513: } expected\r\n",
      "(1,26): error CS1012: Too many characters in character literal\r\n",
      "(1,34): error CS1002: ; expected\r\n",
      "(1,34): error CS1513: } expected\r\n",
      "(1,36): error CS1012: Too many characters in character literal\r\n",
      "(1,44): error CS1002: ; expected\r\n",
      "(1,44): error CS1513: } expected\r\n",
      "(1,56): error CS1002: ; expected"
     ]
    }
   ],
   "source": [
    "mi_diccionario={'Clave1':'Valor1', 'Clave2':(1,2,3,4,5)}"
   ]
  },
  {
   "cell_type": "code",
   "execution_count": 81,
   "metadata": {
    "vscode": {
     "languageId": "polyglot-notebook"
    }
   },
   "outputs": [
    {
     "ename": "Error",
     "evalue": "(1,21): error CS1012: Too many characters in character literal",
     "output_type": "error",
     "traceback": [
      "(1,21): error CS1012: Too many characters in character literal"
     ]
    }
   ],
   "source": [
    "type(mi_diccionario['Clave2'])"
   ]
  },
  {
   "cell_type": "code",
   "execution_count": 82,
   "metadata": {
    "vscode": {
     "languageId": "polyglot-notebook"
    }
   },
   "outputs": [
    {
     "ename": "Error",
     "evalue": "(1,16): error CS1525: Invalid expression term '{'\r\n(1,16): error CS1002: ; expected\r\n(1,17): error CS1012: Too many characters in character literal\r\n(1,25): error CS1002: ; expected\r\n(1,25): error CS1513: } expected\r\n(1,26): error CS1012: Too many characters in character literal\r\n(1,34): error CS1002: ; expected\r\n(1,34): error CS1513: } expected\r\n(1,36): error CS1012: Too many characters in character literal\r\n(1,44): error CS1002: ; expected\r\n(1,44): error CS1513: } expected\r\n(1,46): error CS1012: Too many characters in character literal\r\n(1,55): error CS1002: ; expected\r\n(1,55): error CS1513: } expected\r\n(1,57): error CS1001: Identifier expected\r\n(1,57): error CS1003: Syntax error, ']' expected\r\n(1,58): error CS1002: ; expected\r\n(1,58): error CS1513: } expected\r\n(1,60): error CS1002: ; expected\r\n(1,60): error CS1513: } expected\r\n(1,62): error CS1002: ; expected\r\n(1,62): error CS1513: } expected\r\n(1,64): error CS1002: ; expected\r\n(1,64): error CS1513: } expected\r\n(1,66): error CS1002: ; expected\r\n(1,66): error CS1513: } expected",
     "output_type": "error",
     "traceback": [
      "(1,16): error CS1525: Invalid expression term '{'\r\n",
      "(1,16): error CS1002: ; expected\r\n",
      "(1,17): error CS1012: Too many characters in character literal\r\n",
      "(1,25): error CS1002: ; expected\r\n",
      "(1,25): error CS1513: } expected\r\n",
      "(1,26): error CS1012: Too many characters in character literal\r\n",
      "(1,34): error CS1002: ; expected\r\n",
      "(1,34): error CS1513: } expected\r\n",
      "(1,36): error CS1012: Too many characters in character literal\r\n",
      "(1,44): error CS1002: ; expected\r\n",
      "(1,44): error CS1513: } expected\r\n",
      "(1,46): error CS1012: Too many characters in character literal\r\n",
      "(1,55): error CS1002: ; expected\r\n",
      "(1,55): error CS1513: } expected\r\n",
      "(1,57): error CS1001: Identifier expected\r\n",
      "(1,57): error CS1003: Syntax error, ']' expected\r\n",
      "(1,58): error CS1002: ; expected\r\n",
      "(1,58): error CS1513: } expected\r\n",
      "(1,60): error CS1002: ; expected\r\n",
      "(1,60): error CS1513: } expected\r\n",
      "(1,62): error CS1002: ; expected\r\n",
      "(1,62): error CS1513: } expected\r\n",
      "(1,64): error CS1002: ; expected\r\n",
      "(1,64): error CS1513: } expected\r\n",
      "(1,66): error CS1002: ; expected\r\n",
      "(1,66): error CS1513: } expected"
     ]
    }
   ],
   "source": [
    "mi_diccionario={'Clave1':'Valor1', 'Clave2':{'numeros':[1,2,3,4,5]}}"
   ]
  },
  {
   "cell_type": "code",
   "execution_count": 83,
   "metadata": {
    "vscode": {
     "languageId": "polyglot-notebook"
    }
   },
   "outputs": [
    {
     "ename": "Error",
     "evalue": "(1,21): error CS1012: Too many characters in character literal",
     "output_type": "error",
     "traceback": [
      "(1,21): error CS1012: Too many characters in character literal"
     ]
    }
   ],
   "source": [
    "type(mi_diccionario['Clave2'])"
   ]
  },
  {
   "cell_type": "code",
   "execution_count": 84,
   "metadata": {
    "vscode": {
     "languageId": "polyglot-notebook"
    }
   },
   "outputs": [
    {
     "ename": "Error",
     "evalue": "(1,16): error CS1525: Invalid expression term '{'\r\n(1,16): error CS1002: ; expected\r\n(1,17): error CS1012: Too many characters in character literal\r\n(1,25): error CS1002: ; expected\r\n(1,25): error CS1513: } expected\r\n(1,26): error CS1012: Too many characters in character literal\r\n(1,34): error CS1002: ; expected\r\n(1,34): error CS1513: } expected\r\n(1,36): error CS1012: Too many characters in character literal\r\n(1,44): error CS1002: ; expected\r\n(1,44): error CS1513: } expected\r\n(1,46): error CS1001: Identifier expected\r\n(1,46): error CS1003: Syntax error, ']' expected\r\n(1,47): error CS1002: ; expected\r\n(1,47): error CS1513: } expected\r\n(1,49): error CS1002: ; expected\r\n(1,49): error CS1513: } expected\r\n(1,51): error CS1002: ; expected\r\n(1,51): error CS1513: } expected\r\n(1,53): error CS1002: ; expected\r\n(1,53): error CS1513: } expected\r\n(1,55): error CS1002: ; expected\r\n(1,55): error CS1513: } expected",
     "output_type": "error",
     "traceback": [
      "(1,16): error CS1525: Invalid expression term '{'\r\n",
      "(1,16): error CS1002: ; expected\r\n",
      "(1,17): error CS1012: Too many characters in character literal\r\n",
      "(1,25): error CS1002: ; expected\r\n",
      "(1,25): error CS1513: } expected\r\n",
      "(1,26): error CS1012: Too many characters in character literal\r\n",
      "(1,34): error CS1002: ; expected\r\n",
      "(1,34): error CS1513: } expected\r\n",
      "(1,36): error CS1012: Too many characters in character literal\r\n",
      "(1,44): error CS1002: ; expected\r\n",
      "(1,44): error CS1513: } expected\r\n",
      "(1,46): error CS1001: Identifier expected\r\n",
      "(1,46): error CS1003: Syntax error, ']' expected\r\n",
      "(1,47): error CS1002: ; expected\r\n",
      "(1,47): error CS1513: } expected\r\n",
      "(1,49): error CS1002: ; expected\r\n",
      "(1,49): error CS1513: } expected\r\n",
      "(1,51): error CS1002: ; expected\r\n",
      "(1,51): error CS1513: } expected\r\n",
      "(1,53): error CS1002: ; expected\r\n",
      "(1,53): error CS1513: } expected\r\n",
      "(1,55): error CS1002: ; expected\r\n",
      "(1,55): error CS1513: } expected"
     ]
    }
   ],
   "source": [
    "mi_diccionario={'Clave1':'Valor1', 'Clave2':[1,2,3,4,5]}"
   ]
  },
  {
   "cell_type": "code",
   "execution_count": 85,
   "metadata": {
    "vscode": {
     "languageId": "polyglot-notebook"
    }
   },
   "outputs": [
    {
     "ename": "Error",
     "evalue": "(1,21): error CS1012: Too many characters in character literal",
     "output_type": "error",
     "traceback": [
      "(1,21): error CS1012: Too many characters in character literal"
     ]
    }
   ],
   "source": [
    "type(mi_diccionario['Clave2'])"
   ]
  },
  {
   "cell_type": "code",
   "execution_count": 86,
   "metadata": {
    "vscode": {
     "languageId": "polyglot-notebook"
    }
   },
   "outputs": [
    {
     "ename": "Error",
     "evalue": "(1,1): error CS0103: The name 'print' does not exist in the current context\r\n(1,7): error CS0103: The name 'mi_diccionario' does not exist in the current context",
     "output_type": "error",
     "traceback": [
      "(1,1): error CS0103: The name 'print' does not exist in the current context\r\n",
      "(1,7): error CS0103: The name 'mi_diccionario' does not exist in the current context"
     ]
    }
   ],
   "source": [
    "print(mi_diccionario.keys())"
   ]
  },
  {
   "cell_type": "code",
   "execution_count": 87,
   "metadata": {
    "vscode": {
     "languageId": "polyglot-notebook"
    }
   },
   "outputs": [
    {
     "ename": "Error",
     "evalue": "(1,1): error CS0103: The name 'print' does not exist in the current context\r\n(1,7): error CS0103: The name 'mi_diccionario' does not exist in the current context",
     "output_type": "error",
     "traceback": [
      "(1,1): error CS0103: The name 'print' does not exist in the current context\r\n",
      "(1,7): error CS0103: The name 'mi_diccionario' does not exist in the current context"
     ]
    }
   ],
   "source": [
    "print(mi_diccionario.values())"
   ]
  },
  {
   "cell_type": "code",
   "execution_count": 88,
   "metadata": {
    "vscode": {
     "languageId": "polyglot-notebook"
    }
   },
   "outputs": [
    {
     "ename": "Error",
     "evalue": "(1,1): error CS0103: The name 'len' does not exist in the current context\r\n(1,5): error CS0103: The name 'mi_tupla' does not exist in the current context",
     "output_type": "error",
     "traceback": [
      "(1,1): error CS0103: The name 'len' does not exist in the current context\r\n",
      "(1,5): error CS0103: The name 'mi_tupla' does not exist in the current context"
     ]
    }
   ],
   "source": [
    "len(mi_tupla)"
   ]
  },
  {
   "cell_type": "code",
   "execution_count": 89,
   "metadata": {
    "vscode": {
     "languageId": "polyglot-notebook"
    }
   },
   "outputs": [
    {
     "ename": "Error",
     "evalue": "(1,32): error CS1001: Identifier expected\r\n(1,34): error CS1018: Keyword 'this' or 'base' expected\r\n(1,34): error CS1002: ; expected\r\n(2,11): error CS1012: Too many characters in character literal",
     "output_type": "error",
     "traceback": [
      "(1,32): error CS1001: Identifier expected\r\n",
      "(1,34): error CS1018: Keyword 'this' or 'base' expected\r\n",
      "(1,34): error CS1002: ; expected\r\n",
      "(2,11): error CS1012: Too many characters in character literal"
     ]
    }
   ],
   "source": [
    "def imprimir_valor_variable(var):\n",
    "    print('El valor de la variable es' + str(var))"
   ]
  },
  {
   "cell_type": "code",
   "execution_count": 90,
   "metadata": {
    "vscode": {
     "languageId": "polyglot-notebook"
    }
   },
   "outputs": [
    {
     "ename": "Error",
     "evalue": "(1,1): error CS0103: The name 'imprimir_valor_variable' does not exist in the current context\r\n(1,25): error CS0103: The name 'mi_lista' does not exist in the current context",
     "output_type": "error",
     "traceback": [
      "(1,1): error CS0103: The name 'imprimir_valor_variable' does not exist in the current context\r\n",
      "(1,25): error CS0103: The name 'mi_lista' does not exist in the current context"
     ]
    }
   ],
   "source": [
    "imprimir_valor_variable(mi_lista)"
   ]
  },
  {
   "cell_type": "code",
   "execution_count": 91,
   "metadata": {
    "vscode": {
     "languageId": "polyglot-notebook"
    }
   },
   "outputs": [
    {
     "ename": "Error",
     "evalue": "(1,29): error CS1001: Identifier expected\r\n(1,35): error CS1001: Identifier expected\r\n(1,37): error CS1018: Keyword 'this' or 'base' expected\r\n(1,37): error CS1002: ; expected\r\n(2,25): error CS1525: Invalid expression term ':'\r\n(2,25): error CS1002: ; expected\r\n(2,25): error CS7017: Member definition, statement, or end-of-file expected\r\n(3,24): error CS1002: ; expected\r\n(3,24): error CS7017: Member definition, statement, or end-of-file expected\r\n(3,30): error CS1002: ; expected\r\n(3,30): error CS8641: 'else' cannot start a statement.\r\n(3,30): error CS1003: Syntax error, '(' expected\r\n(3,30): error CS1525: Invalid expression term 'else'\r\n(3,30): error CS1026: ) expected\r\n(3,30): error CS1525: Invalid expression term 'else'\r\n(3,30): error CS1002: ; expected\r\n(4,13): error CS1525: Invalid expression term ':'\r\n(4,13): error CS1002: ; expected\r\n(4,13): error CS7017: Member definition, statement, or end-of-file expected\r\n(5,24): error CS1002: ; expected\r\n(5,24): error CS7017: Member definition, statement, or end-of-file expected",
     "output_type": "error",
     "traceback": [
      "(1,29): error CS1001: Identifier expected\r\n",
      "(1,35): error CS1001: Identifier expected\r\n",
      "(1,37): error CS1018: Keyword 'this' or 'base' expected\r\n",
      "(1,37): error CS1002: ; expected\r\n",
      "(2,25): error CS1525: Invalid expression term ':'\r\n",
      "(2,25): error CS1002: ; expected\r\n",
      "(2,25): error CS7017: Member definition, statement, or end-of-file expected\r\n",
      "(3,24): error CS1002: ; expected\r\n",
      "(3,24): error CS7017: Member definition, statement, or end-of-file expected\r\n",
      "(3,30): error CS1002: ; expected\r\n",
      "(3,30): error CS8641: 'else' cannot start a statement.\r\n",
      "(3,30): error CS1003: Syntax error, '(' expected\r\n",
      "(3,30): error CS1525: Invalid expression term 'else'\r\n",
      "(3,30): error CS1026: ) expected\r\n",
      "(3,30): error CS1525: Invalid expression term 'else'\r\n",
      "(3,30): error CS1002: ; expected\r\n",
      "(4,13): error CS1525: Invalid expression term ':'\r\n",
      "(4,13): error CS1002: ; expected\r\n",
      "(4,13): error CS7017: Member definition, statement, or end-of-file expected\r\n",
      "(5,24): error CS1002: ; expected\r\n",
      "(5,24): error CS7017: Member definition, statement, or end-of-file expected"
     ]
    }
   ],
   "source": [
    "def ordenar_dos_numeros(num1, num2):\n",
    "        if (num1 > num2):\n",
    "            return num2, num1\n",
    "        else:\n",
    "            return num1, num2"
   ]
  },
  {
   "cell_type": "code",
   "execution_count": 92,
   "metadata": {
    "vscode": {
     "languageId": "polyglot-notebook"
    }
   },
   "outputs": [
    {
     "ename": "Error",
     "evalue": "(1,1): error CS0103: The name 'ordenar_dos_numeros' does not exist in the current context",
     "output_type": "error",
     "traceback": [
      "(1,1): error CS0103: The name 'ordenar_dos_numeros' does not exist in the current context"
     ]
    }
   ],
   "source": [
    "ordenar_dos_numeros(8,1)"
   ]
  },
  {
   "cell_type": "code",
   "execution_count": 93,
   "metadata": {
    "vscode": {
     "languageId": "polyglot-notebook"
    }
   },
   "outputs": [
    {
     "ename": "Error",
     "evalue": "(1,21): error CS1001: Identifier expected\r\n(1,23): error CS1018: Keyword 'this' or 'base' expected\r\n(1,23): error CS1002: ; expected\r\n(2,5): error CS1011: Empty character literal\r\n(2,7): error CS1002: ; expected\r\n(2,7): error CS1010: Newline in constant\r\n(2,7): error CS1011: Empty character literal\r\n(2,8): error CS1002: ; expected\r\n(3,17): error CS1002: ; expected\r\n(3,26): error CS1002: ; expected\r\n(4,5): error CS1011: Empty character literal\r\n(4,7): error CS1002: ; expected\r\n(4,7): error CS1010: Newline in constant\r\n(4,7): error CS1011: Empty character literal\r\n(4,8): error CS1002: ; expected\r\n(5,20): error CS1525: Invalid expression term ':'\r\n(5,20): error CS1002: ; expected\r\n(5,20): error CS7017: Member definition, statement, or end-of-file expected\r\n(6,48): error CS1002: ; expected\r\n(7,18): error CS1002: ; expected",
     "output_type": "error",
     "traceback": [
      "(1,21): error CS1001: Identifier expected\r\n",
      "(1,23): error CS1018: Keyword 'this' or 'base' expected\r\n",
      "(1,23): error CS1002: ; expected\r\n",
      "(2,5): error CS1011: Empty character literal\r\n",
      "(2,7): error CS1002: ; expected\r\n",
      "(2,7): error CS1010: Newline in constant\r\n",
      "(2,7): error CS1011: Empty character literal\r\n",
      "(2,8): error CS1002: ; expected\r\n",
      "(3,17): error CS1002: ; expected\r\n",
      "(3,26): error CS1002: ; expected\r\n",
      "(4,5): error CS1011: Empty character literal\r\n",
      "(4,7): error CS1002: ; expected\r\n",
      "(4,7): error CS1010: Newline in constant\r\n",
      "(4,7): error CS1011: Empty character literal\r\n",
      "(4,8): error CS1002: ; expected\r\n",
      "(5,20): error CS1525: Invalid expression term ':'\r\n",
      "(5,20): error CS1002: ; expected\r\n",
      "(5,20): error CS7017: Member definition, statement, or end-of-file expected\r\n",
      "(6,48): error CS1002: ; expected\r\n",
      "(7,18): error CS1002: ; expected"
     ]
    }
   ],
   "source": [
    "def factorial(numero):\n",
    "    '''\n",
    "    Devuelve el factorial\n",
    "    '''\n",
    "    if (numero > 1):\n",
    "        numero = numero * factorial(numero - 1)\n",
    "    return numero"
   ]
  },
  {
   "cell_type": "code",
   "execution_count": 94,
   "metadata": {
    "vscode": {
     "languageId": "polyglot-notebook"
    }
   },
   "outputs": [
    {
     "ename": "Error",
     "evalue": "(1,1): error CS0103: The name 'factorial' does not exist in the current context",
     "output_type": "error",
     "traceback": [
      "(1,1): error CS0103: The name 'factorial' does not exist in the current context"
     ]
    }
   ],
   "source": [
    "factorial(3)"
   ]
  },
  {
   "cell_type": "code",
   "execution_count": 95,
   "metadata": {
    "vscode": {
     "languageId": "polyglot-notebook"
    }
   },
   "outputs": [
    {
     "ename": "Error",
     "evalue": "(1,1): error CS0103: The name 'help' does not exist in the current context\r\n(1,6): error CS0103: The name 'factorial' does not exist in the current context",
     "output_type": "error",
     "traceback": [
      "(1,1): error CS0103: The name 'help' does not exist in the current context\r\n",
      "(1,6): error CS0103: The name 'factorial' does not exist in the current context"
     ]
    }
   ],
   "source": [
    "help(factorial)"
   ]
  },
  {
   "cell_type": "code",
   "execution_count": 96,
   "metadata": {
    "vscode": {
     "languageId": "polyglot-notebook"
    }
   },
   "outputs": [
    {
     "ename": "Error",
     "evalue": "(1,22): error CS1001: Identifier expected\r\n(1,32): error CS1001: Identifier expected\r\n(1,37): error CS1018: Keyword 'this' or 'base' expected\r\n(1,37): error CS1002: ; expected\r\n(2,22): error CS1525: Invalid expression term ':'\r\n(2,22): error CS1002: ; expected\r\n(2,22): error CS7017: Member definition, statement, or end-of-file expected\r\n(3,16): error CS1012: Too many characters in character literal\r\n(3,46): error CS1002: ; expected\r\n(3,46): error CS8641: 'else' cannot start a statement.\r\n(3,46): error CS1003: Syntax error, '(' expected\r\n(3,46): error CS1525: Invalid expression term 'else'\r\n(3,46): error CS1026: ) expected\r\n(3,46): error CS1525: Invalid expression term 'else'\r\n(3,46): error CS1002: ; expected\r\n(4,9): error CS1525: Invalid expression term ':'\r\n(4,9): error CS1002: ; expected\r\n(4,9): error CS7017: Member definition, statement, or end-of-file expected\r\n(5,35): error CS1002: ; expected",
     "output_type": "error",
     "traceback": [
      "(1,22): error CS1001: Identifier expected\r\n",
      "(1,32): error CS1001: Identifier expected\r\n",
      "(1,37): error CS1018: Keyword 'this' or 'base' expected\r\n",
      "(1,37): error CS1002: ; expected\r\n",
      "(2,22): error CS1525: Invalid expression term ':'\r\n",
      "(2,22): error CS1002: ; expected\r\n",
      "(2,22): error CS7017: Member definition, statement, or end-of-file expected\r\n",
      "(3,16): error CS1012: Too many characters in character literal\r\n",
      "(3,46): error CS1002: ; expected\r\n",
      "(3,46): error CS8641: 'else' cannot start a statement.\r\n",
      "(3,46): error CS1003: Syntax error, '(' expected\r\n",
      "(3,46): error CS1525: Invalid expression term 'else'\r\n",
      "(3,46): error CS1026: ) expected\r\n",
      "(3,46): error CS1525: Invalid expression term 'else'\r\n",
      "(3,46): error CS1002: ; expected\r\n",
      "(4,9): error CS1525: Invalid expression term ':'\r\n",
      "(4,9): error CS1002: ; expected\r\n",
      "(4,9): error CS7017: Member definition, statement, or end-of-file expected\r\n",
      "(5,35): error CS1002: ; expected"
     ]
    }
   ],
   "source": [
    "def dividir(dividendo, divisor = 1):\n",
    "    if (divisor == 0):\n",
    "        return 'No se puede dividir por cero'\n",
    "    else:\n",
    "        return dividendo / divisor"
   ]
  },
  {
   "cell_type": "code",
   "execution_count": 97,
   "metadata": {
    "vscode": {
     "languageId": "polyglot-notebook"
    }
   },
   "outputs": [
    {
     "ename": "Error",
     "evalue": "(1,1): error CS0103: The name 'print' does not exist in the current context\r\n(1,7): error CS0103: The name 'dividir' does not exist in the current context",
     "output_type": "error",
     "traceback": [
      "(1,1): error CS0103: The name 'print' does not exist in the current context\r\n",
      "(1,7): error CS0103: The name 'dividir' does not exist in the current context"
     ]
    }
   ],
   "source": [
    "print(dividir(10))"
   ]
  },
  {
   "cell_type": "code",
   "execution_count": 98,
   "metadata": {
    "vscode": {
     "languageId": "polyglot-notebook"
    }
   },
   "outputs": [
    {
     "ename": "Error",
     "evalue": "(1,1): error CS0103: The name 'print' does not exist in the current context\r\n(1,7): error CS0103: The name 'divisor' does not exist in the current context",
     "output_type": "error",
     "traceback": [
      "(1,1): error CS0103: The name 'print' does not exist in the current context\r\n",
      "(1,7): error CS0103: The name 'divisor' does not exist in the current context"
     ]
    }
   ],
   "source": [
    "print(divisor)"
   ]
  },
  {
   "cell_type": "code",
   "execution_count": 99,
   "metadata": {
    "vscode": {
     "languageId": "polyglot-notebook"
    }
   },
   "outputs": [
    {
     "ename": "Error",
     "evalue": "(1,12): error CS1002: ; expected\r\n(2,22): error CS1001: Identifier expected\r\n(2,24): error CS1018: Keyword 'this' or 'base' expected\r\n(2,24): error CS1002: ; expected\r\n(3,22): error CS1525: Invalid expression term ':'\r\n(3,22): error CS1002: ; expected\r\n(3,22): error CS7017: Member definition, statement, or end-of-file expected\r\n(4,16): error CS1012: Too many characters in character literal\r\n(4,46): error CS1002: ; expected\r\n(4,46): error CS8641: 'else' cannot start a statement.\r\n(4,46): error CS1003: Syntax error, '(' expected\r\n(4,46): error CS1525: Invalid expression term 'else'\r\n(4,46): error CS1026: ) expected\r\n(4,46): error CS1525: Invalid expression term 'else'\r\n(4,46): error CS1002: ; expected\r\n(5,9): error CS1525: Invalid expression term ':'\r\n(5,9): error CS1002: ; expected\r\n(5,9): error CS7017: Member definition, statement, or end-of-file expected\r\n(6,35): error CS1002: ; expected",
     "output_type": "error",
     "traceback": [
      "(1,12): error CS1002: ; expected\r\n",
      "(2,22): error CS1001: Identifier expected\r\n",
      "(2,24): error CS1018: Keyword 'this' or 'base' expected\r\n",
      "(2,24): error CS1002: ; expected\r\n",
      "(3,22): error CS1525: Invalid expression term ':'\r\n",
      "(3,22): error CS1002: ; expected\r\n",
      "(3,22): error CS7017: Member definition, statement, or end-of-file expected\r\n",
      "(4,16): error CS1012: Too many characters in character literal\r\n",
      "(4,46): error CS1002: ; expected\r\n",
      "(4,46): error CS8641: 'else' cannot start a statement.\r\n",
      "(4,46): error CS1003: Syntax error, '(' expected\r\n",
      "(4,46): error CS1525: Invalid expression term 'else'\r\n",
      "(4,46): error CS1026: ) expected\r\n",
      "(4,46): error CS1525: Invalid expression term 'else'\r\n",
      "(4,46): error CS1002: ; expected\r\n",
      "(5,9): error CS1525: Invalid expression term ':'\r\n",
      "(5,9): error CS1002: ; expected\r\n",
      "(5,9): error CS7017: Member definition, statement, or end-of-file expected\r\n",
      "(6,35): error CS1002: ; expected"
     ]
    }
   ],
   "source": [
    "divisor = 5\n",
    "def dividir(dividendo):\n",
    "    if (divisor == 0):\n",
    "        return 'No se puede dividir por cero'\n",
    "    else:\n",
    "        return dividendo / divisor"
   ]
  },
  {
   "cell_type": "code",
   "execution_count": 100,
   "metadata": {
    "vscode": {
     "languageId": "polyglot-notebook"
    }
   },
   "outputs": [
    {
     "ename": "Error",
     "evalue": "(1,1): error CS0103: The name 'print' does not exist in the current context\r\n(1,7): error CS0103: The name 'dividir' does not exist in the current context",
     "output_type": "error",
     "traceback": [
      "(1,1): error CS0103: The name 'print' does not exist in the current context\r\n",
      "(1,7): error CS0103: The name 'dividir' does not exist in the current context"
     ]
    }
   ],
   "source": [
    "print(dividir(10))"
   ]
  },
  {
   "cell_type": "code",
   "execution_count": 101,
   "metadata": {
    "vscode": {
     "languageId": "polyglot-notebook"
    }
   },
   "outputs": [
    {
     "ename": "Error",
     "evalue": "(1,1): error CS0103: The name 'print' does not exist in the current context\r\n(1,7): error CS0103: The name 'divisor' does not exist in the current context",
     "output_type": "error",
     "traceback": [
      "(1,1): error CS0103: The name 'print' does not exist in the current context\r\n",
      "(1,7): error CS0103: The name 'divisor' does not exist in the current context"
     ]
    }
   ],
   "source": [
    "print(divisor)"
   ]
  },
  {
   "cell_type": "code",
   "execution_count": 102,
   "metadata": {
    "vscode": {
     "languageId": "polyglot-notebook"
    }
   },
   "outputs": [
    {
     "ename": "Error",
     "evalue": "(1,12): error CS1002: ; expected\r\n(2,22): error CS1001: Identifier expected\r\n(2,32): error CS1001: Identifier expected\r\n(2,37): error CS1018: Keyword 'this' or 'base' expected\r\n(2,37): error CS1002: ; expected\r\n(3,22): error CS1525: Invalid expression term ':'\r\n(3,22): error CS1002: ; expected\r\n(3,22): error CS7017: Member definition, statement, or end-of-file expected\r\n(4,16): error CS1012: Too many characters in character literal\r\n(4,46): error CS1002: ; expected\r\n(4,46): error CS8641: 'else' cannot start a statement.\r\n(4,46): error CS1003: Syntax error, '(' expected\r\n(4,46): error CS1525: Invalid expression term 'else'\r\n(4,46): error CS1026: ) expected\r\n(4,46): error CS1525: Invalid expression term 'else'\r\n(4,46): error CS1002: ; expected\r\n(5,9): error CS1525: Invalid expression term ':'\r\n(5,9): error CS1002: ; expected\r\n(5,9): error CS7017: Member definition, statement, or end-of-file expected\r\n(6,35): error CS1002: ; expected",
     "output_type": "error",
     "traceback": [
      "(1,12): error CS1002: ; expected\r\n",
      "(2,22): error CS1001: Identifier expected\r\n",
      "(2,32): error CS1001: Identifier expected\r\n",
      "(2,37): error CS1018: Keyword 'this' or 'base' expected\r\n",
      "(2,37): error CS1002: ; expected\r\n",
      "(3,22): error CS1525: Invalid expression term ':'\r\n",
      "(3,22): error CS1002: ; expected\r\n",
      "(3,22): error CS7017: Member definition, statement, or end-of-file expected\r\n",
      "(4,16): error CS1012: Too many characters in character literal\r\n",
      "(4,46): error CS1002: ; expected\r\n",
      "(4,46): error CS8641: 'else' cannot start a statement.\r\n",
      "(4,46): error CS1003: Syntax error, '(' expected\r\n",
      "(4,46): error CS1525: Invalid expression term 'else'\r\n",
      "(4,46): error CS1026: ) expected\r\n",
      "(4,46): error CS1525: Invalid expression term 'else'\r\n",
      "(4,46): error CS1002: ; expected\r\n",
      "(5,9): error CS1525: Invalid expression term ':'\r\n",
      "(5,9): error CS1002: ; expected\r\n",
      "(5,9): error CS7017: Member definition, statement, or end-of-file expected\r\n",
      "(6,35): error CS1002: ; expected"
     ]
    }
   ],
   "source": [
    "divisor = 5\n",
    "def dividir(dividendo, divisor = 1):\n",
    "    if (divisor == 0):\n",
    "        return 'No se puede dividir por cero'\n",
    "    else:\n",
    "        return dividendo / divisor"
   ]
  },
  {
   "cell_type": "code",
   "execution_count": 103,
   "metadata": {
    "vscode": {
     "languageId": "polyglot-notebook"
    }
   },
   "outputs": [
    {
     "ename": "Error",
     "evalue": "(1,1): error CS0103: The name 'print' does not exist in the current context\r\n(1,7): error CS0103: The name 'dividir' does not exist in the current context",
     "output_type": "error",
     "traceback": [
      "(1,1): error CS0103: The name 'print' does not exist in the current context\r\n",
      "(1,7): error CS0103: The name 'dividir' does not exist in the current context"
     ]
    }
   ],
   "source": [
    "print(dividir(10))"
   ]
  },
  {
   "cell_type": "code",
   "execution_count": 104,
   "metadata": {
    "vscode": {
     "languageId": "polyglot-notebook"
    }
   },
   "outputs": [
    {
     "ename": "Error",
     "evalue": "(1,1): error CS0103: The name 'print' does not exist in the current context\r\n(1,7): error CS0103: The name 'divisor' does not exist in the current context",
     "output_type": "error",
     "traceback": [
      "(1,1): error CS0103: The name 'print' does not exist in the current context\r\n",
      "(1,7): error CS0103: The name 'divisor' does not exist in the current context"
     ]
    }
   ],
   "source": [
    "print(divisor)"
   ]
  },
  {
   "cell_type": "code",
   "execution_count": 105,
   "metadata": {
    "vscode": {
     "languageId": "polyglot-notebook"
    }
   },
   "outputs": [
    {
     "ename": "Error",
     "evalue": "(1,26): error CS1002: ; expected\r\n(1,27): error CS1002: ; expected\r\n(1,27): error CS7017: Member definition, statement, or end-of-file expected\r\n(1,37): error CS1002: ; expected",
     "output_type": "error",
     "traceback": [
      "(1,26): error CS1002: ; expected\r\n",
      "(1,27): error CS1002: ; expected\r\n",
      "(1,27): error CS7017: Member definition, statement, or end-of-file expected\r\n",
      "(1,37): error CS1002: ; expected"
     ]
    }
   ],
   "source": [
    "lambda_producto = lambda x, y: x * y\n",
    "lambda_producto(3, 4)"
   ]
  },
  {
   "cell_type": "code",
   "execution_count": null,
   "metadata": {
    "dotnet_interactive": {
     "language": "csharp"
    },
    "polyglot_notebook": {
     "kernelName": "csharp"
    }
   },
   "outputs": [],
   "source": [
    "class Animal:\n",
    "    '''\n",
    "    En esta clase se crean los animales\n",
    "    '''\n",
    "    def __init__(self, especie, edad, color):\n",
    "        self.especie = especie\n",
    "        self.edad = edad\n",
    "        self.color = color\n",
    "    def mePresento(self):\n",
    "        print('Hola, soy ', self.especie, ', de color', self.color, ' y tengo ', self.edad, ' años')\n",
    "    def cumplirAños(self):\n",
    "        self.edad = self.edad + 1"
   ]
  },
  {
   "cell_type": "code",
   "execution_count": null,
   "metadata": {},
   "outputs": [
    {
     "name": "stdout",
     "output_type": "stream",
     "text": [
      "Ratón\n",
      "2\n",
      "Liebre\n",
      "3\n"
     ]
    }
   ],
   "source": [
    "a1 = Animal('Ratón', 2, 'Marrón')\n",
    "print(a1.especie)\n",
    "print(a1.edad)\n",
    "\n",
    "a2 = Animal('Liebre', 3, 'Gris')\n",
    "print(a2.especie)\n",
    "print(a2.edad)"
   ]
  },
  {
   "cell_type": "code",
   "execution_count": null,
   "metadata": {},
   "outputs": [
    {
     "name": "stdout",
     "output_type": "stream",
     "text": [
      "Hola, soy  Ratón , de color Marrón  y tengo  2  años\n"
     ]
    }
   ],
   "source": [
    "a1.mePresento()"
   ]
  },
  {
   "cell_type": "code",
   "execution_count": null,
   "metadata": {},
   "outputs": [
    {
     "name": "stdout",
     "output_type": "stream",
     "text": [
      "Hola, soy  Liebre , de color Gris  y tengo  3  años\n"
     ]
    }
   ],
   "source": [
    "a2.mePresento()"
   ]
  },
  {
   "cell_type": "code",
   "execution_count": null,
   "metadata": {},
   "outputs": [
    {
     "name": "stdout",
     "output_type": "stream",
     "text": [
      "Hola, soy  Ratón , de color Marrón  y tengo  3  años\n"
     ]
    }
   ],
   "source": [
    "a1.cumplirAños()\n",
    "a1.mePresento()"
   ]
  },
  {
   "cell_type": "code",
   "execution_count": null,
   "metadata": {},
   "outputs": [],
   "source": [
    "# Caja Negra\n",
    "import unittest\n"
   ]
  },
  {
   "cell_type": "code",
   "execution_count": null,
   "metadata": {},
   "outputs": [],
   "source": [
    "\n",
    "def suma(num_1, num_2):\n",
    "    return num_1 + num_2"
   ]
  },
  {
   "cell_type": "code",
   "execution_count": null,
   "metadata": {},
   "outputs": [],
   "source": [
    "\n",
    "class CajaNegraTest(unittest.TestCase):\n",
    "\n",
    "    def test_suma_dos_positivos(self):\n",
    "        num_1 = 10\n",
    "        num_2 = 5\n",
    "\n",
    "        resultado = suma(num_1, num_2)\n",
    "\n",
    "        self.assertEqual(resultado, 15)\n",
    "\n",
    "    def test_suma_dos_negativos(self):\n",
    "        num_1 = -10\n",
    "        num_2 = -7\n",
    "\n",
    "        resultado = suma(num_1, num_2)\n",
    "\n",
    "        self.assertEqual(resultado, -17)\n"
   ]
  },
  {
   "cell_type": "code",
   "execution_count": null,
   "metadata": {},
   "outputs": [
    {
     "name": "stderr",
     "output_type": "stream",
     "text": [
      "test_suma_dos_negativos (__main__.CajaNegraTest) ... ok\n",
      "test_suma_dos_positivos (__main__.CajaNegraTest) ... ok\n",
      "\n",
      "----------------------------------------------------------------------\n",
      "Ran 2 tests in 0.004s\n",
      "\n",
      "OK\n"
     ]
    },
    {
     "data": {
      "text/plain": [
       "<unittest.main.TestProgram at 0x2226bd08400>"
      ]
     },
     "execution_count": 47,
     "metadata": {},
     "output_type": "execute_result"
    }
   ],
   "source": [
    "unittest.main(argv=[''], verbosity=2, exit=False)"
   ]
  },
  {
   "cell_type": "code",
   "execution_count": null,
   "metadata": {},
   "outputs": [],
   "source": [
    "if __name__ == '__main__':\n",
    "    unittest.main()"
   ]
  },
  {
   "cell_type": "code",
   "execution_count": null,
   "metadata": {},
   "outputs": [
    {
     "name": "stderr",
     "output_type": "stream",
     "text": [
      "test_suma_dos_negativos (__main__.CajaNegraTest) ... ok\n",
      "test_suma_dos_positivos (__main__.CajaNegraTest) ... ok\n",
      "test_es_mayor_de_edad (__main__.PruebaDeCristalTest) ... ok\n",
      "test_es_menor_de_edad (__main__.PruebaDeCristalTest) ... ok\n",
      "\n",
      "----------------------------------------------------------------------\n",
      "Ran 4 tests in 0.006s\n",
      "\n",
      "OK\n"
     ]
    },
    {
     "data": {
      "text/plain": [
       "<unittest.main.TestProgram at 0x2226bd153d0>"
      ]
     },
     "execution_count": 49,
     "metadata": {},
     "output_type": "execute_result"
    }
   ],
   "source": [
    "#Caja de Cristal\n",
    "import unittest\n",
    "\n",
    "def es_mayor_de_edad(edad):\n",
    "    if edad >= 18:\n",
    "        return True\n",
    "    else:\n",
    "        return False\n",
    "\n",
    "class PruebaDeCristalTest(unittest.TestCase):\n",
    "\n",
    "    def test_es_mayor_de_edad(self):\n",
    "        edad = 20\n",
    "\n",
    "        resultado = es_mayor_de_edad(edad)\n",
    "\n",
    "        self.assertEqual(resultado, True)\n",
    "\n",
    "    def test_es_menor_de_edad(self):\n",
    "        edad = 15\n",
    "\n",
    "        resultado = es_mayor_de_edad(edad)\n",
    "\n",
    "        self.assertEqual(resultado, False)\n",
    "\n",
    "unittest.main(argv=[''], verbosity=2, exit=False)"
   ]
  },
  {
   "cell_type": "code",
   "execution_count": null,
   "metadata": {},
   "outputs": [],
   "source": [
    "if __name__ == '__main__':\n",
    "    unittest.main()"
   ]
  },
  {
   "cell_type": "code",
   "execution_count": null,
   "metadata": {},
   "outputs": [],
   "source": [
    "# Python\n",
    "\n",
    "def busca_pais(paises, pais):\n",
    "    '''\n",
    "    Paises es un diccionario. Pais es la llave.\n",
    "    Codigo con el principio EAFP.\n",
    "    '''    \n",
    "    try:\n",
    "        return paises[pais]\n",
    "    except KeyError:\n",
    "        return None"
   ]
  },
  {
   "cell_type": "code",
   "execution_count": null,
   "metadata": {},
   "outputs": [
    {
     "name": "stdout",
     "output_type": "stream",
     "text": [
      "division by zero\n",
      "[0, 1, 2, 3, 4, 5, 6, 7, 8, 9]\n"
     ]
    }
   ],
   "source": [
    "def divide_elementos_de_lista(lista, divisor):\n",
    "    '''\n",
    "    Cada elemento de una lista es dividida por un divisor definido.\n",
    "    En caso de error de tipo ZeroDivisionError que\n",
    "    significa error al dividir en cero\n",
    "    la función devuelve la lista inicial\n",
    "    '''\n",
    "    try:\n",
    "        return [i / divisor for i in lista]\n",
    "    \n",
    "    except ZeroDivisionError as e:\n",
    "        print(e)\n",
    "        return lista\n",
    "\n",
    "lista = list(range(10))\n",
    "divisor = 0\n",
    "\n",
    "print(divide_elementos_de_lista(lista, divisor))"
   ]
  },
  {
   "cell_type": "code",
   "execution_count": null,
   "metadata": {},
   "outputs": [
    {
     "name": "stdout",
     "output_type": "stream",
     "text": [
      "[0.0, 0.3333333333333333, 0.6666666666666666, 1.0, 1.3333333333333333, 1.6666666666666667, 2.0, 2.3333333333333335, 2.6666666666666665, 3.0]\n"
     ]
    }
   ],
   "source": [
    "divisor = 3\n",
    "print(divide_elementos_de_lista(lista, divisor))"
   ]
  },
  {
   "cell_type": "code",
   "execution_count": null,
   "metadata": {},
   "outputs": [
    {
     "name": "stdout",
     "output_type": "stream",
     "text": [
      "5\n",
      "4\n",
      "9\n",
      "2\n"
     ]
    }
   ],
   "source": [
    "lista = [5, 4, 9, 2]\n",
    "i = 0\n",
    "while i < len(lista):\n",
    "    elemento = lista[i]\n",
    "    print(elemento)\n",
    "    i += 1"
   ]
  },
  {
   "cell_type": "code",
   "execution_count": null,
   "metadata": {},
   "outputs": [
    {
     "name": "stdout",
     "output_type": "stream",
     "text": [
      "5\n",
      "4\n",
      "9\n",
      "2\n"
     ]
    }
   ],
   "source": [
    "lista = [5, 4, 9, 2]\n",
    "for elemento in lista:\n",
    "    print(elemento)"
   ]
  },
  {
   "cell_type": "code",
   "execution_count": null,
   "metadata": {},
   "outputs": [
    {
     "name": "stdout",
     "output_type": "stream",
     "text": [
      "cadena True\n",
      "numero False\n"
     ]
    },
    {
     "name": "stderr",
     "output_type": "stream",
     "text": [
      "C:\\Users\\lopez\\AppData\\Local\\Temp/ipykernel_10044/1562366592.py:1: DeprecationWarning: Using or importing the ABCs from 'collections' instead of from 'collections.abc' is deprecated since Python 3.3, and in 3.10 it will stop working\n",
      "  from collections import Iterable\n"
     ]
    }
   ],
   "source": [
    "from collections import Iterable\n",
    "cadena = \"Hola\"\n",
    "numero = 3\n",
    "print(\"cadena\", isinstance(cadena, Iterable))\n",
    "print(\"numero\", isinstance(numero, Iterable))"
   ]
  },
  {
   "cell_type": "code",
   "execution_count": null,
   "metadata": {},
   "outputs": [
    {
     "name": "stdout",
     "output_type": "stream",
     "text": [
      "['H', 'o', 'l', 'a']\n"
     ]
    }
   ],
   "source": [
    "print(list(\"Hola\"))"
   ]
  },
  {
   "cell_type": "code",
   "execution_count": null,
   "metadata": {},
   "outputs": [
    {
     "name": "stdout",
     "output_type": "stream",
     "text": [
      "6\n"
     ]
    }
   ],
   "source": [
    "print(sum([1, 2, 3]))"
   ]
  },
  {
   "cell_type": "code",
   "execution_count": null,
   "metadata": {},
   "outputs": [
    {
     "name": "stdout",
     "output_type": "stream",
     "text": [
      "H-o-l-a\n"
     ]
    }
   ],
   "source": [
    "print(\"-\".join(\"Hola\"))"
   ]
  },
  {
   "cell_type": "code",
   "execution_count": null,
   "metadata": {},
   "outputs": [
    {
     "name": "stdout",
     "output_type": "stream",
     "text": [
      "a\n",
      "b\n",
      "c\n"
     ]
    }
   ],
   "source": [
    "mi_dict = {'a':1, 'b':2, 'c':3}\n",
    "for i in mi_dict:\n",
    "    print(i)"
   ]
  },
  {
   "cell_type": "code",
   "execution_count": null,
   "metadata": {},
   "outputs": [],
   "source": [
    "libro = ['página1', 'página2', 'página3', 'página4']\n",
    "marcapaginas = iter(libro)"
   ]
  },
  {
   "cell_type": "code",
   "execution_count": null,
   "metadata": {},
   "outputs": [
    {
     "name": "stdout",
     "output_type": "stream",
     "text": [
      "página1\n",
      "página2\n",
      "página3\n",
      "página4\n"
     ]
    }
   ],
   "source": [
    "print(next(marcapaginas))\n",
    "print(next(marcapaginas))\n",
    "print(next(marcapaginas))\n",
    "print(next(marcapaginas))"
   ]
  },
  {
   "cell_type": "code",
   "execution_count": null,
   "metadata": {},
   "outputs": [
    {
     "ename": "StopIteration",
     "evalue": "",
     "output_type": "error",
     "traceback": [
      "\u001b[1;31m---------------------------------------------------------------------------\u001b[0m",
      "\u001b[1;31mStopIteration\u001b[0m                             Traceback (most recent call last)",
      "\u001b[1;32m~\\AppData\\Local\\Temp/ipykernel_10044/1391636315.py\u001b[0m in \u001b[0;36m<module>\u001b[1;34m\u001b[0m\n\u001b[1;32m----> 1\u001b[1;33m \u001b[0mprint\u001b[0m\u001b[1;33m(\u001b[0m\u001b[0mnext\u001b[0m\u001b[1;33m(\u001b[0m\u001b[0mmarcapaginas\u001b[0m\u001b[1;33m)\u001b[0m\u001b[1;33m)\u001b[0m\u001b[1;33m\u001b[0m\u001b[1;33m\u001b[0m\u001b[0m\n\u001b[0m",
      "\u001b[1;31mStopIteration\u001b[0m: "
     ]
    }
   ],
   "source": [
    "print(next(marcapaginas))"
   ]
  },
  {
   "cell_type": "code",
   "execution_count": null,
   "metadata": {},
   "outputs": [
    {
     "data": {
      "text/plain": [
       "2"
      ]
     },
     "execution_count": 99,
     "metadata": {},
     "output_type": "execute_result"
    }
   ],
   "source": [
    "14 % 3"
   ]
  },
  {
   "cell_type": "code",
   "execution_count": null,
   "metadata": {},
   "outputs": [
    {
     "data": {
      "text/plain": [
       "4"
      ]
     },
     "execution_count": 97,
     "metadata": {},
     "output_type": "execute_result"
    }
   ],
   "source": [
    "14 // 3"
   ]
  },
  {
   "cell_type": "code",
   "execution_count": null,
   "metadata": {},
   "outputs": [],
   "source": [
    "a = [1,2]\n"
   ]
  },
  {
   "cell_type": "code",
   "execution_count": null,
   "metadata": {},
   "outputs": [],
   "source": [
    "b = a.copy()"
   ]
  },
  {
   "cell_type": "code",
   "execution_count": null,
   "metadata": {},
   "outputs": [],
   "source": [
    "b.append(3)"
   ]
  },
  {
   "cell_type": "code",
   "execution_count": null,
   "metadata": {},
   "outputs": [
    {
     "name": "stdout",
     "output_type": "stream",
     "text": [
      "[1, 2]\n"
     ]
    }
   ],
   "source": [
    "print(a)"
   ]
  },
  {
   "cell_type": "code",
   "execution_count": null,
   "metadata": {},
   "outputs": [
    {
     "name": "stdout",
     "output_type": "stream",
     "text": [
      "[1, 2, 3]\n"
     ]
    }
   ],
   "source": [
    "print(b)"
   ]
  },
  {
   "cell_type": "code",
   "execution_count": null,
   "metadata": {},
   "outputs": [],
   "source": [
    "b.append(4)"
   ]
  },
  {
   "cell_type": "code",
   "execution_count": null,
   "metadata": {},
   "outputs": [
    {
     "name": "stdout",
     "output_type": "stream",
     "text": [
      "[1, 2, 3]\n"
     ]
    }
   ],
   "source": [
    "print(a)"
   ]
  },
  {
   "cell_type": "code",
   "execution_count": null,
   "metadata": {},
   "outputs": [
    {
     "name": "stdout",
     "output_type": "stream",
     "text": [
      "[1, 2, 3, 4]\n"
     ]
    }
   ],
   "source": [
    "print(b)"
   ]
  },
  {
   "cell_type": "code",
   "execution_count": null,
   "metadata": {},
   "outputs": [],
   "source": [
    "x = 7"
   ]
  },
  {
   "cell_type": "code",
   "execution_count": null,
   "metadata": {},
   "outputs": [
    {
     "data": {
      "text/plain": [
       "2"
      ]
     },
     "execution_count": 34,
     "metadata": {},
     "output_type": "execute_result"
    }
   ],
   "source": [
    "7 & 7"
   ]
  },
  {
   "cell_type": "code",
   "execution_count": null,
   "metadata": {},
   "outputs": [
    {
     "name": "stdout",
     "output_type": "stream",
     "text": [
      "2\n"
     ]
    }
   ],
   "source": [
    "print(x)"
   ]
  },
  {
   "cell_type": "code",
   "execution_count": null,
   "metadata": {},
   "outputs": [],
   "source": [
    "a = [1, 2]"
   ]
  },
  {
   "cell_type": "code",
   "execution_count": null,
   "metadata": {},
   "outputs": [],
   "source": [
    "b = [\"Uno\", \"Dos\"]"
   ]
  },
  {
   "cell_type": "code",
   "execution_count": null,
   "metadata": {},
   "outputs": [],
   "source": [
    "c = zip(a, b)"
   ]
  },
  {
   "cell_type": "code",
   "execution_count": null,
   "metadata": {},
   "outputs": [
    {
     "data": {
      "text/plain": [
       "zip"
      ]
     },
     "execution_count": 39,
     "metadata": {},
     "output_type": "execute_result"
    }
   ],
   "source": [
    "type(c)"
   ]
  },
  {
   "cell_type": "code",
   "execution_count": null,
   "metadata": {},
   "outputs": [
    {
     "data": {
      "text/plain": [
       "[(1, 'Uno'), (2, 'Dos')]"
      ]
     },
     "execution_count": 40,
     "metadata": {},
     "output_type": "execute_result"
    }
   ],
   "source": [
    "list(c)"
   ]
  },
  {
   "cell_type": "code",
   "execution_count": null,
   "metadata": {},
   "outputs": [],
   "source": [
    "frase = \"El perro de san roque no tiene rabo\""
   ]
  },
  {
   "cell_type": "code",
   "execution_count": null,
   "metadata": {},
   "outputs": [
    {
     "name": "stdout",
     "output_type": "stream",
     "text": [
      "['r', 'r', 'r', 'r']\n"
     ]
    }
   ],
   "source": [
    "errores = [i for i in frase if i == 'r']\n",
    "print(errores)"
   ]
  },
  {
   "cell_type": "code",
   "execution_count": null,
   "metadata": {},
   "outputs": [
    {
     "name": "stdout",
     "output_type": "stream",
     "text": [
      "2\n",
      "3\n",
      "4\n",
      "5\n",
      "6\n",
      "7\n",
      "8\n",
      "9\n",
      "10\n",
      "11\n",
      "12\n",
      "13\n",
      "14\n",
      "15\n",
      "16\n",
      "17\n",
      "18\n",
      "19\n",
      "20\n",
      "21\n",
      "22\n",
      "23\n",
      "24\n",
      "25\n",
      "26\n",
      "27\n",
      "28\n",
      "29\n",
      "30\n",
      "31\n",
      "32\n",
      "33\n",
      "34\n",
      "35\n",
      "36\n",
      "37\n",
      "38\n",
      "39\n"
     ]
    }
   ],
   "source": [
    "n = 40 \n",
    "sequence = [0,1] \n",
    "for i in range(2,n): \n",
    "    sequence.append(sequence[i-1]+sequence[i-2]) \n",
    "    print (sequence)"
   ]
  },
  {
   "cell_type": "code",
   "execution_count": null,
   "metadata": {},
   "outputs": [
    {
     "data": {
      "text/plain": [
       "8"
      ]
     },
     "execution_count": 3,
     "metadata": {},
     "output_type": "execute_result"
    }
   ],
   "source": [
    "4 << 1"
   ]
  }
 ],
 "metadata": {
  "kernelspec": {
   "display_name": "Python 3 (ipykernel)",
   "language": "python",
   "name": "python3"
  },
  "language_info": {
   "codemirror_mode": {
    "name": "ipython",
    "version": 3
   },
   "file_extension": ".py",
   "mimetype": "text/x-python",
   "name": "python",
   "nbconvert_exporter": "python",
   "pygments_lexer": "ipython3",
   "version": "3.9.12"
  }
 },
 "nbformat": 4,
 "nbformat_minor": 4
}
